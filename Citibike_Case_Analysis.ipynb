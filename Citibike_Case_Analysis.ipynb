{
 "cells": [
  {
   "cell_type": "code",
   "execution_count": 1,
   "metadata": {
    "collapsed": true
   },
   "outputs": [],
   "source": [
    "###################### Load Libraries and Data ######################\n",
    "import numpy as np\n",
    "import matplotlib.pyplot as plt\n",
    "import pandas as pd\n",
    "from pandas import *\n",
    "import seaborn as sns\n",
    "from matplotlib import rcParams\n",
    "import datetime as dt\n",
    "import glob, os "
   ]
  },
  {
   "cell_type": "code",
   "execution_count": 2,
   "metadata": {
    "collapsed": true
   },
   "outputs": [],
   "source": [
    "# path = r'C:\\Users\\mondalm\\CitiBike-rider-data'\n",
    "# files = glob.iglob(os.path.join(path, \"*.csv\"), recursive=True)     \n",
    "# #df = concat([read_csv(f, header=None,low_memory=False) for f in files], keys=files)\n",
    "# #df.types\n",
    "# dataframes = (pd.read_csv(f,header=None,low_memory=False) for f in files)\n",
    "# df = pd.concat(dataframes,ignore_index=True)\n",
    "# #df.dtypes\n"
   ]
  },
  {
   "cell_type": "code",
   "execution_count": 3,
   "metadata": {
    "collapsed": true
   },
   "outputs": [],
   "source": [
    "# ##Scrappy way to get column names in the header.\n",
    "# df2 = pd.read_csv('C:/Users/mondalm/CitiBike-rider-data/201701-citibike-tripdata.csv')\n",
    "# df.columns = df2.columns\n",
    "# del[df2]\n",
    "# df.columns\n",
    "# print(df.shape)\n",
    "# print(df.columns)\n",
    "# #print(df['Start Time'])\n",
    "# #df = df[df[1] != 'starttime']#Could've just dropped duplicate rows here as well\n",
    "# #df = df[df[1] != 'Start Time']\n",
    "# #print(df.shape)\n",
    "# df.to_csv('C:/Mithun/study/Citibike-analysis/2017-1-12.csv')"
   ]
  },
  {
   "cell_type": "code",
   "execution_count": 4,
   "metadata": {},
   "outputs": [
    {
     "data": {
      "text/plain": [
       "0                           int64\n",
       "Trip Duration              object\n",
       "Start Time                 object\n",
       "Stop Time                  object\n",
       "Start Station ID           object\n",
       "Start Station Name         object\n",
       "Start Station Latitude     object\n",
       "Start Station Longitude    object\n",
       "End Station ID             object\n",
       "End Station Name           object\n",
       "End Station Latitude       object\n",
       "End Station Longitude      object\n",
       "Bike ID                    object\n",
       "User Type                  object\n",
       "Birth Year                 object\n",
       "Gender                     object\n",
       "dtype: object"
      ]
     },
     "execution_count": 4,
     "metadata": {},
     "output_type": "execute_result"
    }
   ],
   "source": [
    "###################### Code above only needs to be run once ######################\n",
    "#Load aggregated dataset to minimize time needed to run the code\n",
    "df = read_csv('C:/Mithun/study/Citibike-analysis/2017-1-12.csv',low_memory=False,skiprows=1)\n",
    "df.dtypes"
   ]
  },
  {
   "cell_type": "code",
   "execution_count": 5,
   "metadata": {},
   "outputs": [
    {
     "data": {
      "text/html": [
       "<div>\n",
       "<style>\n",
       "    .dataframe thead tr:only-child th {\n",
       "        text-align: right;\n",
       "    }\n",
       "\n",
       "    .dataframe thead th {\n",
       "        text-align: left;\n",
       "    }\n",
       "\n",
       "    .dataframe tbody tr th {\n",
       "        vertical-align: top;\n",
       "    }\n",
       "</style>\n",
       "<table border=\"1\" class=\"dataframe\">\n",
       "  <thead>\n",
       "    <tr style=\"text-align: right;\">\n",
       "      <th></th>\n",
       "      <th>Trip Duration</th>\n",
       "      <th>Start Time</th>\n",
       "      <th>Stop Time</th>\n",
       "      <th>Start Station ID</th>\n",
       "      <th>Start Station Name</th>\n",
       "      <th>Start Station Latitude</th>\n",
       "      <th>Start Station Longitude</th>\n",
       "      <th>End Station ID</th>\n",
       "      <th>End Station Name</th>\n",
       "      <th>End Station Latitude</th>\n",
       "      <th>End Station Longitude</th>\n",
       "      <th>Bike ID</th>\n",
       "      <th>User Type</th>\n",
       "      <th>Birth Year</th>\n",
       "      <th>Gender</th>\n",
       "    </tr>\n",
       "  </thead>\n",
       "  <tbody>\n",
       "    <tr>\n",
       "      <th>5084654</th>\n",
       "      <td>2443</td>\n",
       "      <td>2017-05-31 23:58:56</td>\n",
       "      <td>2017-06-01 00:39:40</td>\n",
       "      <td>144</td>\n",
       "      <td>Nassau St &amp; Navy St</td>\n",
       "      <td>40.69839895</td>\n",
       "      <td>-73.98068914</td>\n",
       "      <td>387</td>\n",
       "      <td>Centre St &amp; Chambers St</td>\n",
       "      <td>40.71273266</td>\n",
       "      <td>-74.0046073</td>\n",
       "      <td>29340</td>\n",
       "      <td>Customer</td>\n",
       "      <td>NaN</td>\n",
       "      <td>0</td>\n",
       "    </tr>\n",
       "    <tr>\n",
       "      <th>5084655</th>\n",
       "      <td>2441</td>\n",
       "      <td>2017-05-31 23:59:00</td>\n",
       "      <td>2017-06-01 00:39:41</td>\n",
       "      <td>144</td>\n",
       "      <td>Nassau St &amp; Navy St</td>\n",
       "      <td>40.69839895</td>\n",
       "      <td>-73.98068914</td>\n",
       "      <td>387</td>\n",
       "      <td>Centre St &amp; Chambers St</td>\n",
       "      <td>40.71273266</td>\n",
       "      <td>-74.0046073</td>\n",
       "      <td>25838</td>\n",
       "      <td>Subscriber</td>\n",
       "      <td>1989</td>\n",
       "      <td>1</td>\n",
       "    </tr>\n",
       "    <tr>\n",
       "      <th>5084656</th>\n",
       "      <td>239</td>\n",
       "      <td>2017-05-31 23:59:06</td>\n",
       "      <td>2017-06-01 00:03:06</td>\n",
       "      <td>477</td>\n",
       "      <td>W 41 St &amp; 8 Ave</td>\n",
       "      <td>40.75640548</td>\n",
       "      <td>-73.9900262</td>\n",
       "      <td>447</td>\n",
       "      <td>8 Ave &amp; W 52 St</td>\n",
       "      <td>40.76370739</td>\n",
       "      <td>-73.9851615</td>\n",
       "      <td>27294</td>\n",
       "      <td>Subscriber</td>\n",
       "      <td>1974</td>\n",
       "      <td>1</td>\n",
       "    </tr>\n",
       "    <tr>\n",
       "      <th>5084657</th>\n",
       "      <td>2427</td>\n",
       "      <td>2017-05-31 23:59:09</td>\n",
       "      <td>2017-06-01 00:39:36</td>\n",
       "      <td>144</td>\n",
       "      <td>Nassau St &amp; Navy St</td>\n",
       "      <td>40.69839895</td>\n",
       "      <td>-73.98068914</td>\n",
       "      <td>387</td>\n",
       "      <td>Centre St &amp; Chambers St</td>\n",
       "      <td>40.71273266</td>\n",
       "      <td>-74.0046073</td>\n",
       "      <td>18504</td>\n",
       "      <td>Customer</td>\n",
       "      <td>NaN</td>\n",
       "      <td>0</td>\n",
       "    </tr>\n",
       "    <tr>\n",
       "      <th>5084658</th>\n",
       "      <td>380</td>\n",
       "      <td>2017-05-31 23:59:14</td>\n",
       "      <td>2017-06-01 00:05:34</td>\n",
       "      <td>482</td>\n",
       "      <td>W 15 St &amp; 7 Ave</td>\n",
       "      <td>40.73935542</td>\n",
       "      <td>-73.99931783</td>\n",
       "      <td>402</td>\n",
       "      <td>Broadway &amp; E 22 St</td>\n",
       "      <td>40.7403432</td>\n",
       "      <td>-73.98955109</td>\n",
       "      <td>17864</td>\n",
       "      <td>Subscriber</td>\n",
       "      <td>1971</td>\n",
       "      <td>1</td>\n",
       "    </tr>\n",
       "    <tr>\n",
       "      <th>5084659</th>\n",
       "      <td>1387</td>\n",
       "      <td>2017-05-31 23:59:26</td>\n",
       "      <td>2017-06-01 00:22:33</td>\n",
       "      <td>3449</td>\n",
       "      <td>Eckford St &amp; Engert Ave</td>\n",
       "      <td>40.721462562298164</td>\n",
       "      <td>-73.94800901412964</td>\n",
       "      <td>364</td>\n",
       "      <td>Lafayette Ave &amp; Classon Ave</td>\n",
       "      <td>40.68900443</td>\n",
       "      <td>-73.96023854</td>\n",
       "      <td>27033</td>\n",
       "      <td>Subscriber</td>\n",
       "      <td>1987</td>\n",
       "      <td>1</td>\n",
       "    </tr>\n",
       "    <tr>\n",
       "      <th>5084660</th>\n",
       "      <td>759</td>\n",
       "      <td>2017-05-31 23:59:32</td>\n",
       "      <td>2017-06-01 00:12:12</td>\n",
       "      <td>3163</td>\n",
       "      <td>Central Park West &amp; W 68 St</td>\n",
       "      <td>40.7734066</td>\n",
       "      <td>-73.97782542</td>\n",
       "      <td>3289</td>\n",
       "      <td>W 90 St &amp; Amsterdam Ave</td>\n",
       "      <td>40.79017948095081</td>\n",
       "      <td>-73.97288918495178</td>\n",
       "      <td>28849</td>\n",
       "      <td>Subscriber</td>\n",
       "      <td>1963</td>\n",
       "      <td>2</td>\n",
       "    </tr>\n",
       "    <tr>\n",
       "      <th>5084661</th>\n",
       "      <td>571</td>\n",
       "      <td>2017-05-31 23:59:48</td>\n",
       "      <td>2017-06-01 00:09:19</td>\n",
       "      <td>504</td>\n",
       "      <td>1 Ave &amp; E 16 St</td>\n",
       "      <td>40.73221853</td>\n",
       "      <td>-73.98165557</td>\n",
       "      <td>128</td>\n",
       "      <td>MacDougal St &amp; Prince St</td>\n",
       "      <td>40.72710258</td>\n",
       "      <td>-74.00297088</td>\n",
       "      <td>27034</td>\n",
       "      <td>Subscriber</td>\n",
       "      <td>1960</td>\n",
       "      <td>2</td>\n",
       "    </tr>\n",
       "    <tr>\n",
       "      <th>5084662</th>\n",
       "      <td>539</td>\n",
       "      <td>2017-05-31 23:59:50</td>\n",
       "      <td>2017-06-01 00:08:49</td>\n",
       "      <td>161</td>\n",
       "      <td>LaGuardia Pl &amp; W 3 St</td>\n",
       "      <td>40.72917025</td>\n",
       "      <td>-73.99810231</td>\n",
       "      <td>504</td>\n",
       "      <td>1 Ave &amp; E 16 St</td>\n",
       "      <td>40.73221853</td>\n",
       "      <td>-73.98165557</td>\n",
       "      <td>27430</td>\n",
       "      <td>Subscriber</td>\n",
       "      <td>1951</td>\n",
       "      <td>1</td>\n",
       "    </tr>\n",
       "    <tr>\n",
       "      <th>5084663</th>\n",
       "      <td>613</td>\n",
       "      <td>2017-05-31 23:59:55</td>\n",
       "      <td>2017-06-01 00:10:08</td>\n",
       "      <td>3082</td>\n",
       "      <td>Hope St &amp; Union Ave</td>\n",
       "      <td>40.71167351</td>\n",
       "      <td>-73.95141312</td>\n",
       "      <td>3095</td>\n",
       "      <td>Graham Ave &amp; Herbert St</td>\n",
       "      <td>40.71929301</td>\n",
       "      <td>-73.94500379</td>\n",
       "      <td>21265</td>\n",
       "      <td>Subscriber</td>\n",
       "      <td>1985</td>\n",
       "      <td>1</td>\n",
       "    </tr>\n",
       "  </tbody>\n",
       "</table>\n",
       "</div>"
      ],
      "text/plain": [
       "        Trip Duration           Start Time            Stop Time  \\\n",
       "5084654          2443  2017-05-31 23:58:56  2017-06-01 00:39:40   \n",
       "5084655          2441  2017-05-31 23:59:00  2017-06-01 00:39:41   \n",
       "5084656           239  2017-05-31 23:59:06  2017-06-01 00:03:06   \n",
       "5084657          2427  2017-05-31 23:59:09  2017-06-01 00:39:36   \n",
       "5084658           380  2017-05-31 23:59:14  2017-06-01 00:05:34   \n",
       "5084659          1387  2017-05-31 23:59:26  2017-06-01 00:22:33   \n",
       "5084660           759  2017-05-31 23:59:32  2017-06-01 00:12:12   \n",
       "5084661           571  2017-05-31 23:59:48  2017-06-01 00:09:19   \n",
       "5084662           539  2017-05-31 23:59:50  2017-06-01 00:08:49   \n",
       "5084663           613  2017-05-31 23:59:55  2017-06-01 00:10:08   \n",
       "\n",
       "        Start Station ID           Start Station Name Start Station Latitude  \\\n",
       "5084654              144          Nassau St & Navy St            40.69839895   \n",
       "5084655              144          Nassau St & Navy St            40.69839895   \n",
       "5084656              477              W 41 St & 8 Ave            40.75640548   \n",
       "5084657              144          Nassau St & Navy St            40.69839895   \n",
       "5084658              482              W 15 St & 7 Ave            40.73935542   \n",
       "5084659             3449      Eckford St & Engert Ave     40.721462562298164   \n",
       "5084660             3163  Central Park West & W 68 St             40.7734066   \n",
       "5084661              504              1 Ave & E 16 St            40.73221853   \n",
       "5084662              161        LaGuardia Pl & W 3 St            40.72917025   \n",
       "5084663             3082          Hope St & Union Ave            40.71167351   \n",
       "\n",
       "        Start Station Longitude End Station ID             End Station Name  \\\n",
       "5084654            -73.98068914            387      Centre St & Chambers St   \n",
       "5084655            -73.98068914            387      Centre St & Chambers St   \n",
       "5084656             -73.9900262            447              8 Ave & W 52 St   \n",
       "5084657            -73.98068914            387      Centre St & Chambers St   \n",
       "5084658            -73.99931783            402           Broadway & E 22 St   \n",
       "5084659      -73.94800901412964            364  Lafayette Ave & Classon Ave   \n",
       "5084660            -73.97782542           3289      W 90 St & Amsterdam Ave   \n",
       "5084661            -73.98165557            128     MacDougal St & Prince St   \n",
       "5084662            -73.99810231            504              1 Ave & E 16 St   \n",
       "5084663            -73.95141312           3095      Graham Ave & Herbert St   \n",
       "\n",
       "        End Station Latitude End Station Longitude Bike ID   User Type  \\\n",
       "5084654          40.71273266           -74.0046073   29340    Customer   \n",
       "5084655          40.71273266           -74.0046073   25838  Subscriber   \n",
       "5084656          40.76370739           -73.9851615   27294  Subscriber   \n",
       "5084657          40.71273266           -74.0046073   18504    Customer   \n",
       "5084658           40.7403432          -73.98955109   17864  Subscriber   \n",
       "5084659          40.68900443          -73.96023854   27033  Subscriber   \n",
       "5084660    40.79017948095081    -73.97288918495178   28849  Subscriber   \n",
       "5084661          40.72710258          -74.00297088   27034  Subscriber   \n",
       "5084662          40.73221853          -73.98165557   27430  Subscriber   \n",
       "5084663          40.71929301          -73.94500379   21265  Subscriber   \n",
       "\n",
       "        Birth Year Gender  \n",
       "5084654        NaN      0  \n",
       "5084655       1989      1  \n",
       "5084656       1974      1  \n",
       "5084657        NaN      0  \n",
       "5084658       1971      1  \n",
       "5084659       1987      1  \n",
       "5084660       1963      2  \n",
       "5084661       1960      2  \n",
       "5084662       1951      1  \n",
       "5084663       1985      1  "
      ]
     },
     "execution_count": 5,
     "metadata": {},
     "output_type": "execute_result"
    }
   ],
   "source": [
    "#df = df.drop(['Unnamed: 0'], axis = 1)\n",
    "df = df.drop(['0'], axis = 1)\n",
    "df_copy = df\n",
    "df.tail(10)"
   ]
  },
  {
   "cell_type": "code",
   "execution_count": 6,
   "metadata": {},
   "outputs": [
    {
     "name": "stdout",
     "output_type": "stream",
     "text": [
      "                          Total   Percent\n",
      "Birth Year               452740  8.904030\n",
      "User Type                 15909  0.312882\n",
      "Gender                        0  0.000000\n",
      "Bike ID                       0  0.000000\n",
      "End Station Longitude         0  0.000000\n",
      "End Station Latitude          0  0.000000\n",
      "End Station Name              0  0.000000\n",
      "End Station ID                0  0.000000\n",
      "Start Station Longitude       0  0.000000\n",
      "Start Station Latitude        0  0.000000\n",
      "Start Station Name            0  0.000000\n",
      "Start Station ID              0  0.000000\n",
      "Stop Time                     0  0.000000\n",
      "Start Time                    0  0.000000\n",
      "Trip Duration                 0  0.000000\n",
      "Trip Duration              object\n",
      "Start Time                 object\n",
      "Stop Time                  object\n",
      "Start Station ID           object\n",
      "Start Station Name         object\n",
      "Start Station Latitude     object\n",
      "Start Station Longitude    object\n",
      "End Station ID             object\n",
      "End Station Name           object\n",
      "End Station Latitude       object\n",
      "End Station Longitude      object\n",
      "Bike ID                    object\n",
      "User Type                  object\n",
      "Birth Year                 object\n",
      "Gender                     object\n",
      "dtype: object\n"
     ]
    }
   ],
   "source": [
    "#Percentage of missing data.\n",
    "def missing_data(df):\n",
    "    total = df.isnull().sum().sort_values(ascending=False)\n",
    "    percent = (df.isnull().sum()/df.isnull().count()*100).sort_values(ascending=False)\n",
    "    missing_data = pd.concat([total, percent], axis=1, keys=['Total', 'Percent'])\n",
    "    return missing_data\n",
    "print(missing_data(df))\n",
    "print(df.dtypes)"
   ]
  },
  {
   "cell_type": "markdown",
   "metadata": {},
   "source": [
    "Let's check if there's any noise or cleanup which needs to be done before creating the chart.\n",
    "\n",
    "1.\tAny missing values?\n",
    "\n",
    "o\tMostly for Birth year and a few for User Type. We can ignore these for now and deal with them later.\n",
    "\n",
    "2.\tLet's get the data in the right format\n",
    "o\tTrip Duration - Int\n",
    "\n",
    "o\tStart Time - DateTime\n",
    "\n",
    "o\tStop Time - DateTime\n",
    "\n",
    "o\tStart Station ID - Categorical\n",
    "\n",
    "o\tStart Station Name - Categorical\n",
    "\n",
    "o\tUser Type - Categorical\n",
    "\n",
    "o\tBirth Year - Ordinal\n",
    "\n",
    "o\tGender - Categorical\n",
    "\n",
    "3.\tDeal with trips which lasted less than 1.5 minute (90 seconds). If so, in the ideal world, we should not include this start, we may double count. If a bike is broken, a user will dock it again within a minute or two and pick-up another one.\n",
    "\n",
    "o\tWould be ideal to not include any starts where a tip lasted less than 90 seconds and the start station = end station.\n",
    "\n",
    "4.\tAnomalies such as theft and broken docks shouldn't matter for this metric and can be dealt with later.\n",
    "\n"
   ]
  },
  {
   "cell_type": "code",
   "execution_count": 7,
   "metadata": {},
   "outputs": [
    {
     "name": "stdout",
     "output_type": "stream",
     "text": [
      "Trip Duration                      object\n",
      "Start Time                 datetime64[ns]\n",
      "Stop Time                  datetime64[ns]\n",
      "Start Station ID                   object\n",
      "Start Station Name               category\n",
      "Start Station Latitude             object\n",
      "Start Station Longitude            object\n",
      "End Station ID                     object\n",
      "End Station Name                 category\n",
      "End Station Latitude               object\n",
      "End Station Longitude              object\n",
      "Bike ID                            object\n",
      "User Type                        category\n",
      "Birth Year                         object\n",
      "Gender                           category\n",
      "dtype: object\n",
      "  Trip Duration          Start Time           Stop Time Start Station ID  \\\n",
      "0           680 2017-01-01 00:00:21 2017-01-01 00:11:41             3226   \n",
      "1          1282 2017-01-01 00:00:45 2017-01-01 00:22:08             3263   \n",
      "2           648 2017-01-01 00:00:57 2017-01-01 00:11:46             3143   \n",
      "3           631 2017-01-01 00:01:10 2017-01-01 00:11:42             3143   \n",
      "4           621 2017-01-01 00:01:25 2017-01-01 00:11:47             3143   \n",
      "\n",
      "            Start Station Name Start Station Latitude Start Station Longitude  \\\n",
      "0  W 82 St & Central Park West               40.78275               -73.97137   \n",
      "1       Cooper Square & E 7 St      40.72923649910006      -73.99086803197861   \n",
      "2              5 Ave & E 78 St      40.77682863439968      -73.96388769149779   \n",
      "3              5 Ave & E 78 St      40.77682863439968      -73.96388769149779   \n",
      "4              5 Ave & E 78 St      40.77682863439968      -73.96388769149779   \n",
      "\n",
      "  End Station ID             End Station Name End Station Latitude  \\\n",
      "0           3165  Central Park West & W 72 St    40.77579376683666   \n",
      "1            498           Broadway & W 32 St          40.74854862   \n",
      "2           3152              3 Ave & E 71 St          40.76873687   \n",
      "3           3152              3 Ave & E 71 St          40.76873687   \n",
      "4           3152              3 Ave & E 71 St          40.76873687   \n",
      "\n",
      "  End Station Longitude Bike ID   User Type Birth Year Gender  \n",
      "0     -73.9762057363987   25542  Subscriber       1965      2  \n",
      "1          -73.98808416   21136  Subscriber       1987      2  \n",
      "2          -73.96119945   18147    Customer        NaN      0  \n",
      "3          -73.96119945   21211    Customer        NaN      0  \n",
      "4          -73.96119945   26819    Customer        NaN      0  \n"
     ]
    },
    {
     "data": {
      "text/html": [
       "<div>\n",
       "<style>\n",
       "    .dataframe thead tr:only-child th {\n",
       "        text-align: right;\n",
       "    }\n",
       "\n",
       "    .dataframe thead th {\n",
       "        text-align: left;\n",
       "    }\n",
       "\n",
       "    .dataframe tbody tr th {\n",
       "        vertical-align: top;\n",
       "    }\n",
       "</style>\n",
       "<table border=\"1\" class=\"dataframe\">\n",
       "  <thead>\n",
       "    <tr style=\"text-align: right;\">\n",
       "      <th></th>\n",
       "      <th>Trip Duration</th>\n",
       "      <th>Start Time</th>\n",
       "      <th>Stop Time</th>\n",
       "      <th>Start Station ID</th>\n",
       "      <th>Start Station Name</th>\n",
       "      <th>Start Station Latitude</th>\n",
       "      <th>Start Station Longitude</th>\n",
       "      <th>End Station ID</th>\n",
       "      <th>End Station Name</th>\n",
       "      <th>End Station Latitude</th>\n",
       "      <th>End Station Longitude</th>\n",
       "      <th>Bike ID</th>\n",
       "      <th>User Type</th>\n",
       "      <th>Birth Year</th>\n",
       "      <th>Gender</th>\n",
       "    </tr>\n",
       "  </thead>\n",
       "  <tbody>\n",
       "    <tr>\n",
       "      <th>count</th>\n",
       "      <td>5084664</td>\n",
       "      <td>5084660</td>\n",
       "      <td>5084660</td>\n",
       "      <td>5084664</td>\n",
       "      <td>5084664</td>\n",
       "      <td>5084664</td>\n",
       "      <td>5084664</td>\n",
       "      <td>5084664</td>\n",
       "      <td>5084664</td>\n",
       "      <td>5084664</td>\n",
       "      <td>5084664</td>\n",
       "      <td>5084664</td>\n",
       "      <td>5068755</td>\n",
       "      <td>4631924</td>\n",
       "      <td>5084664</td>\n",
       "    </tr>\n",
       "    <tr>\n",
       "      <th>unique</th>\n",
       "      <td>17580</td>\n",
       "      <td>3568196</td>\n",
       "      <td>3572930</td>\n",
       "      <td>643</td>\n",
       "      <td>646</td>\n",
       "      <td>647</td>\n",
       "      <td>647</td>\n",
       "      <td>660</td>\n",
       "      <td>664</td>\n",
       "      <td>663</td>\n",
       "      <td>663</td>\n",
       "      <td>10566</td>\n",
       "      <td>4</td>\n",
       "      <td>97</td>\n",
       "      <td>5</td>\n",
       "    </tr>\n",
       "    <tr>\n",
       "      <th>top</th>\n",
       "      <td>340</td>\n",
       "      <td>2017-05-15 17:24:17</td>\n",
       "      <td>2017-05-23 18:03:34</td>\n",
       "      <td>519</td>\n",
       "      <td>Pershing Square North</td>\n",
       "      <td>40.751873</td>\n",
       "      <td>-73.977706</td>\n",
       "      <td>519</td>\n",
       "      <td>Pershing Square North</td>\n",
       "      <td>40.751873</td>\n",
       "      <td>-73.977706</td>\n",
       "      <td>26708</td>\n",
       "      <td>Subscriber</td>\n",
       "      <td>1989</td>\n",
       "      <td>1</td>\n",
       "    </tr>\n",
       "    <tr>\n",
       "      <th>freq</th>\n",
       "      <td>6399</td>\n",
       "      <td>12</td>\n",
       "      <td>11</td>\n",
       "      <td>54744</td>\n",
       "      <td>54744</td>\n",
       "      <td>54744</td>\n",
       "      <td>54744</td>\n",
       "      <td>53959</td>\n",
       "      <td>53959</td>\n",
       "      <td>53959</td>\n",
       "      <td>53959</td>\n",
       "      <td>1126</td>\n",
       "      <td>4597420</td>\n",
       "      <td>189087</td>\n",
       "      <td>3509576</td>\n",
       "    </tr>\n",
       "    <tr>\n",
       "      <th>first</th>\n",
       "      <td>NaN</td>\n",
       "      <td>2017-01-01 00:00:21</td>\n",
       "      <td>2017-01-01 00:10:02</td>\n",
       "      <td>NaN</td>\n",
       "      <td>NaN</td>\n",
       "      <td>NaN</td>\n",
       "      <td>NaN</td>\n",
       "      <td>NaN</td>\n",
       "      <td>NaN</td>\n",
       "      <td>NaN</td>\n",
       "      <td>NaN</td>\n",
       "      <td>NaN</td>\n",
       "      <td>NaN</td>\n",
       "      <td>NaN</td>\n",
       "      <td>NaN</td>\n",
       "    </tr>\n",
       "    <tr>\n",
       "      <th>last</th>\n",
       "      <td>NaN</td>\n",
       "      <td>2017-05-31 23:59:55</td>\n",
       "      <td>2017-07-29 03:31:46</td>\n",
       "      <td>NaN</td>\n",
       "      <td>NaN</td>\n",
       "      <td>NaN</td>\n",
       "      <td>NaN</td>\n",
       "      <td>NaN</td>\n",
       "      <td>NaN</td>\n",
       "      <td>NaN</td>\n",
       "      <td>NaN</td>\n",
       "      <td>NaN</td>\n",
       "      <td>NaN</td>\n",
       "      <td>NaN</td>\n",
       "      <td>NaN</td>\n",
       "    </tr>\n",
       "  </tbody>\n",
       "</table>\n",
       "</div>"
      ],
      "text/plain": [
       "       Trip Duration           Start Time            Stop Time  \\\n",
       "count        5084664              5084660              5084660   \n",
       "unique         17580              3568196              3572930   \n",
       "top              340  2017-05-15 17:24:17  2017-05-23 18:03:34   \n",
       "freq            6399                   12                   11   \n",
       "first            NaN  2017-01-01 00:00:21  2017-01-01 00:10:02   \n",
       "last             NaN  2017-05-31 23:59:55  2017-07-29 03:31:46   \n",
       "\n",
       "       Start Station ID     Start Station Name Start Station Latitude  \\\n",
       "count           5084664                5084664                5084664   \n",
       "unique              643                    646                    647   \n",
       "top                 519  Pershing Square North              40.751873   \n",
       "freq              54744                  54744                  54744   \n",
       "first               NaN                    NaN                    NaN   \n",
       "last                NaN                    NaN                    NaN   \n",
       "\n",
       "       Start Station Longitude End Station ID       End Station Name  \\\n",
       "count                  5084664        5084664                5084664   \n",
       "unique                     647            660                    664   \n",
       "top                 -73.977706            519  Pershing Square North   \n",
       "freq                     54744          53959                  53959   \n",
       "first                      NaN            NaN                    NaN   \n",
       "last                       NaN            NaN                    NaN   \n",
       "\n",
       "       End Station Latitude End Station Longitude  Bike ID   User Type  \\\n",
       "count               5084664               5084664  5084664     5068755   \n",
       "unique                  663                   663    10566           4   \n",
       "top               40.751873            -73.977706    26708  Subscriber   \n",
       "freq                  53959                 53959     1126     4597420   \n",
       "first                   NaN                   NaN      NaN         NaN   \n",
       "last                    NaN                   NaN      NaN         NaN   \n",
       "\n",
       "       Birth Year   Gender  \n",
       "count     4631924  5084664  \n",
       "unique         97        5  \n",
       "top          1989        1  \n",
       "freq       189087  3509576  \n",
       "first         NaN      NaN  \n",
       "last          NaN      NaN  "
      ]
     },
     "execution_count": 7,
     "metadata": {},
     "output_type": "execute_result"
    }
   ],
   "source": [
    "#Ensure data is formatted correctly to avoid errors in the visuals\n",
    "df['Start Time'] = to_datetime(df['Start Time'],errors='coerce', format='%Y-%m-%d %H:%M:%S')\n",
    "df['Stop Time'] = to_datetime(df['Stop Time'],errors='coerce', format='%Y-%m-%d %H:%M:%S')\n",
    "df['Start Station Name'] = df['Start Station Name'].astype('category')\n",
    "df['End Station Name'] = df['End Station Name'].astype('category')\n",
    "df['User Type'] = df['User Type'].astype('category')\n",
    "df['Gender'] = df['Gender'].astype('category')\n",
    "\n",
    "\n",
    "print(df.dtypes)\n",
    "print(df.head())\n",
    "round(df.describe(),2)\n",
    "#df['Trip Duration']"
   ]
  },
  {
   "cell_type": "code",
   "execution_count": 8,
   "metadata": {},
   "outputs": [
    {
     "data": {
      "text/html": [
       "<div>\n",
       "<style>\n",
       "    .dataframe thead tr:only-child th {\n",
       "        text-align: right;\n",
       "    }\n",
       "\n",
       "    .dataframe thead th {\n",
       "        text-align: left;\n",
       "    }\n",
       "\n",
       "    .dataframe tbody tr th {\n",
       "        vertical-align: top;\n",
       "    }\n",
       "</style>\n",
       "<table border=\"1\" class=\"dataframe\">\n",
       "  <thead>\n",
       "    <tr style=\"text-align: right;\">\n",
       "      <th></th>\n",
       "      <th>First Bike</th>\n",
       "      <th>Second Bike</th>\n",
       "    </tr>\n",
       "  </thead>\n",
       "  <tbody>\n",
       "    <tr>\n",
       "      <th>0</th>\n",
       "      <td>W 82 St &amp; Central Park West</td>\n",
       "      <td>Central Park West &amp; W 72 St</td>\n",
       "    </tr>\n",
       "    <tr>\n",
       "      <th>1</th>\n",
       "      <td>Cooper Square &amp; E 7 St</td>\n",
       "      <td>Broadway &amp; W 32 St</td>\n",
       "    </tr>\n",
       "    <tr>\n",
       "      <th>2</th>\n",
       "      <td>5 Ave &amp; E 78 St</td>\n",
       "      <td>3 Ave &amp; E 71 St</td>\n",
       "    </tr>\n",
       "    <tr>\n",
       "      <th>3</th>\n",
       "      <td>5 Ave &amp; E 78 St</td>\n",
       "      <td>3 Ave &amp; E 71 St</td>\n",
       "    </tr>\n",
       "    <tr>\n",
       "      <th>4</th>\n",
       "      <td>5 Ave &amp; E 78 St</td>\n",
       "      <td>3 Ave &amp; E 71 St</td>\n",
       "    </tr>\n",
       "  </tbody>\n",
       "</table>\n",
       "</div>"
      ],
      "text/plain": [
       "                    First Bike                  Second Bike\n",
       "0  W 82 St & Central Park West  Central Park West & W 72 St\n",
       "1       Cooper Square & E 7 St           Broadway & W 32 St\n",
       "2              5 Ave & E 78 St              3 Ave & E 71 St\n",
       "3              5 Ave & E 78 St              3 Ave & E 71 St\n",
       "4              5 Ave & E 78 St              3 Ave & E 71 St"
      ]
     },
     "execution_count": 8,
     "metadata": {},
     "output_type": "execute_result"
    }
   ],
   "source": [
    "#Quasi Confirm Hypothesis in point #3\n",
    "df_bikenum = pd.DataFrame()\n",
    "#print(df[df['Trip Duration'] < '90'])\n",
    "#above command will give filtered out dataframe and we are getting start station name \n",
    "#from that df as first bike stn or 2nd bike stn\n",
    "df_bikenum['First Bike'] = df[df['Trip Duration'] < '90']['Start Station Name'] \n",
    "df_bikenum['Second Bike'] = df[df['Trip Duration'] < '90']['End Station Name']\n",
    "df_bikenum.head()"
   ]
  },
  {
   "cell_type": "code",
   "execution_count": 9,
   "metadata": {},
   "outputs": [
    {
     "name": "stdout",
     "output_type": "stream",
     "text": [
      "(5084664, 15)\n",
      "(4996671, 15)\n",
      "(4996671, 15)\n"
     ]
    },
    {
     "data": {
      "text/plain": [
       "Trip Duration                      object\n",
       "Start Time                 datetime64[ns]\n",
       "Stop Time                  datetime64[ns]\n",
       "Start Station ID                   object\n",
       "Start Station Name               category\n",
       "Start Station Latitude             object\n",
       "Start Station Longitude            object\n",
       "End Station ID                     object\n",
       "End Station Name                 category\n",
       "End Station Latitude               object\n",
       "End Station Longitude              object\n",
       "Bike ID                            object\n",
       "User Type                        category\n",
       "Birth Year                         object\n",
       "Gender                           category\n",
       "dtype: object"
      ]
     },
     "execution_count": 9,
     "metadata": {},
     "output_type": "execute_result"
    }
   ],
   "source": [
    "#Clear up enviornment and drop double count\n",
    "#df_bikenum.shape\n",
    "#del(df_bikenum)\n",
    "print(df.shape)\n",
    "df.drop(df.index[(df['Trip Duration'] < '90') & \n",
    "                 (df['Start Station Latitude'] == df['End Station Latitude'])]\n",
    "       , inplace=True)\n",
    "print(df.shape)\n",
    "\n",
    "### Below deletion using the filtering will change all the column datatype...so preferred \n",
    "##method is to drop the original \n",
    "# df = df[(df['Trip Duration'] < '90') & (df['Start Station Latitude'] == df['End Station Latitude'])]\n",
    "print(df.shape)\n",
    "df.dtypes"
   ]
  },
  {
   "cell_type": "code",
   "execution_count": 10,
   "metadata": {},
   "outputs": [
    {
     "data": {
      "text/html": [
       "<div>\n",
       "<style>\n",
       "    .dataframe thead tr:only-child th {\n",
       "        text-align: right;\n",
       "    }\n",
       "\n",
       "    .dataframe thead th {\n",
       "        text-align: left;\n",
       "    }\n",
       "\n",
       "    .dataframe tbody tr th {\n",
       "        vertical-align: top;\n",
       "    }\n",
       "</style>\n",
       "<table border=\"1\" class=\"dataframe\">\n",
       "  <thead>\n",
       "    <tr style=\"text-align: right;\">\n",
       "      <th></th>\n",
       "      <th>Station</th>\n",
       "      <th>Number of Starts</th>\n",
       "    </tr>\n",
       "  </thead>\n",
       "  <tbody>\n",
       "    <tr>\n",
       "      <th>0</th>\n",
       "      <td>Pershing Square North</td>\n",
       "      <td>54555</td>\n",
       "    </tr>\n",
       "    <tr>\n",
       "      <th>1</th>\n",
       "      <td>Broadway &amp; E 22 St</td>\n",
       "      <td>36342</td>\n",
       "    </tr>\n",
       "    <tr>\n",
       "      <th>2</th>\n",
       "      <td>E 17 St &amp; Broadway</td>\n",
       "      <td>36336</td>\n",
       "    </tr>\n",
       "    <tr>\n",
       "      <th>3</th>\n",
       "      <td>W 21 St &amp; 6 Ave</td>\n",
       "      <td>34964</td>\n",
       "    </tr>\n",
       "    <tr>\n",
       "      <th>4</th>\n",
       "      <td>8 Ave &amp; W 33 St</td>\n",
       "      <td>31101</td>\n",
       "    </tr>\n",
       "  </tbody>\n",
       "</table>\n",
       "</div>"
      ],
      "text/plain": [
       "                 Station  Number of Starts\n",
       "0  Pershing Square North             54555\n",
       "1     Broadway & E 22 St             36342\n",
       "2     E 17 St & Broadway             36336\n",
       "3        W 21 St & 6 Ave             34964\n",
       "4        8 Ave & W 33 St             31101"
      ]
     },
     "execution_count": 10,
     "metadata": {},
     "output_type": "execute_result"
    }
   ],
   "source": [
    "#Data for Top 5 Stations visual\n",
    "top5_start_stations = pd.DataFrame()\n",
    "#print(df['Start Station Name'].unique)\n",
    "#print(df['Start Station Name'].value_counts()) #--> give all the stn name and \n",
    "#its total occurence\n",
    "#print(df['Start Station Name'].value_counts().head()) #--> give top 5 the stn name as index and \n",
    "#its total occurence as values\n",
    "top5_start_stations['Station'] = df['Start Station Name'].value_counts().head().index\n",
    "top5_start_stations['Number of Starts'] = df['Start Station Name'].value_counts().head().values\n",
    "top5_start_stations['Station'] = top5_start_stations['Station'].cat.remove_unused_categories()\n",
    "top5_start_stations['Station'] = top5_start_stations['Station'].astype('object')\n",
    "top5_start_stations"
   ]
  },
  {
   "cell_type": "code",
   "execution_count": 11,
   "metadata": {
    "collapsed": true
   },
   "outputs": [],
   "source": [
    "#Data for Top 5 Stations visual\n",
    "# top5 = pd.DataFrame() \n",
    "# print(df['Start Station Name'].value_counts().head())\n",
    "# top5['Station']=df['Start Station Name'].value_counts().head().index\n",
    "# print(top5)\n",
    "# top5['Number of Starts']=df['Start Station Name'].value_counts().head().values\n",
    "# top5['Station'] = top5['Station'].cat.remove_unused_categories()\n",
    "# top5['Station'] = top5['Station'].astype('object')\n",
    "# top5"
   ]
  },
  {
   "cell_type": "code",
   "execution_count": 12,
   "metadata": {},
   "outputs": [
    {
     "data": {
      "image/png": "[encoded data removed]",
      "text/plain": [
       "<matplotlib.figure.Figure at 0x241000240f0>"
      ]
     },
     "metadata": {},
     "output_type": "display_data"
    }
   ],
   "source": [
    "#Plot for Part 1: Top 5 Stations\n",
    "ax = sns.barplot('Station', 'Number of Starts', data = top5_start_stations, palette=\"GnBu_d\")\n",
    "ax.set_title('Top 5 Citi Bike Stations by Number of Starts', fontsize = 12)\n",
    "rcParams['figure.figsize'] = 12,7\n",
    "ax.set_xticklabels(ax.get_xticklabels(),rotation=40, ha = 'right')\n",
    "for index, row in top5_start_stations.iterrows():\n",
    "    ax.text(index,row['Number of Starts']-4000,row['Number of Starts'], \n",
    "            color='white', ha=\"center\", fontsize = 10)\n",
    "plt.show()"
   ]
  },
  {
   "cell_type": "markdown",
   "metadata": {
    "collapsed": true
   },
   "source": [
    "Trip Duration by User Type\n",
    "\n",
    "Anomalies: Any trip which lasts longer than 2 hours (7,200 seconds) probably indicates a stolen bike, an anomaly, or incorrect docking of the bike. As an avid Citibike user, I know first hand that it doesn't make any sense for one to use a bike for more than one hour! However, I've added a one hour cushion just in case. No rider would plan to go over the maximum 45 minutes allowed. However, I wplan to reduce this to one hour in the future for modelling purposes.\n",
    "\n",
    "First Half- with anomalies in dataset\n",
    "\n",
    "The graph under ax2 is a bargraph of average trip duration for each user type. It's helpful, but would be better to see a boxplot and get an idea of the distribution and see mintues instead of seconds.\n",
    "\n",
    "Second graph is a basic Boxplot based with anomalies included. As we can see, there is too much noise for this to be useful. It'll be better to look at this without anomalies.\n",
    "\n",
    "Second Half - without anomalies in dataset\n",
    "\n",
    "Still not useful, let's add a column with minutes for trip Duration.\n",
    "\n",
    "Boxplot with minutes is much more useful. There are still some outliers, however, it is informative. \n"
   ]
  },
  {
   "cell_type": "code",
   "execution_count": 13,
   "metadata": {},
   "outputs": [
    {
     "name": "stdout",
     "output_type": "stream",
     "text": [
      "(4996671, 15)\n",
      "(4981463, 15)\n"
     ]
    },
    {
     "data": {
      "text/html": [
       "<div>\n",
       "<style>\n",
       "    .dataframe thead tr:only-child th {\n",
       "        text-align: right;\n",
       "    }\n",
       "\n",
       "    .dataframe thead th {\n",
       "        text-align: left;\n",
       "    }\n",
       "\n",
       "    .dataframe tbody tr th {\n",
       "        vertical-align: top;\n",
       "    }\n",
       "</style>\n",
       "<table border=\"1\" class=\"dataframe\">\n",
       "  <thead>\n",
       "    <tr style=\"text-align: right;\">\n",
       "      <th></th>\n",
       "      <th>Trip Duration</th>\n",
       "      <th>Start Time</th>\n",
       "      <th>Stop Time</th>\n",
       "      <th>Start Station ID</th>\n",
       "      <th>Start Station Name</th>\n",
       "      <th>Start Station Latitude</th>\n",
       "      <th>Start Station Longitude</th>\n",
       "      <th>End Station ID</th>\n",
       "      <th>End Station Name</th>\n",
       "      <th>End Station Latitude</th>\n",
       "      <th>End Station Longitude</th>\n",
       "      <th>Bike ID</th>\n",
       "      <th>User Type</th>\n",
       "      <th>Birth Year</th>\n",
       "      <th>Gender</th>\n",
       "    </tr>\n",
       "  </thead>\n",
       "  <tbody>\n",
       "    <tr>\n",
       "      <th>0</th>\n",
       "      <td>680</td>\n",
       "      <td>2017-01-01 00:00:21</td>\n",
       "      <td>2017-01-01 00:11:41</td>\n",
       "      <td>3226</td>\n",
       "      <td>W 82 St &amp; Central Park West</td>\n",
       "      <td>40.78275</td>\n",
       "      <td>-73.97137</td>\n",
       "      <td>3165</td>\n",
       "      <td>Central Park West &amp; W 72 St</td>\n",
       "      <td>40.77579376683666</td>\n",
       "      <td>-73.9762057363987</td>\n",
       "      <td>25542</td>\n",
       "      <td>Subscriber</td>\n",
       "      <td>1965</td>\n",
       "      <td>2</td>\n",
       "    </tr>\n",
       "    <tr>\n",
       "      <th>1</th>\n",
       "      <td>1282</td>\n",
       "      <td>2017-01-01 00:00:45</td>\n",
       "      <td>2017-01-01 00:22:08</td>\n",
       "      <td>3263</td>\n",
       "      <td>Cooper Square &amp; E 7 St</td>\n",
       "      <td>40.72923649910006</td>\n",
       "      <td>-73.99086803197861</td>\n",
       "      <td>498</td>\n",
       "      <td>Broadway &amp; W 32 St</td>\n",
       "      <td>40.74854862</td>\n",
       "      <td>-73.98808416</td>\n",
       "      <td>21136</td>\n",
       "      <td>Subscriber</td>\n",
       "      <td>1987</td>\n",
       "      <td>2</td>\n",
       "    </tr>\n",
       "    <tr>\n",
       "      <th>2</th>\n",
       "      <td>648</td>\n",
       "      <td>2017-01-01 00:00:57</td>\n",
       "      <td>2017-01-01 00:11:46</td>\n",
       "      <td>3143</td>\n",
       "      <td>5 Ave &amp; E 78 St</td>\n",
       "      <td>40.77682863439968</td>\n",
       "      <td>-73.96388769149779</td>\n",
       "      <td>3152</td>\n",
       "      <td>3 Ave &amp; E 71 St</td>\n",
       "      <td>40.76873687</td>\n",
       "      <td>-73.96119945</td>\n",
       "      <td>18147</td>\n",
       "      <td>Customer</td>\n",
       "      <td>NaN</td>\n",
       "      <td>0</td>\n",
       "    </tr>\n",
       "    <tr>\n",
       "      <th>3</th>\n",
       "      <td>631</td>\n",
       "      <td>2017-01-01 00:01:10</td>\n",
       "      <td>2017-01-01 00:11:42</td>\n",
       "      <td>3143</td>\n",
       "      <td>5 Ave &amp; E 78 St</td>\n",
       "      <td>40.77682863439968</td>\n",
       "      <td>-73.96388769149779</td>\n",
       "      <td>3152</td>\n",
       "      <td>3 Ave &amp; E 71 St</td>\n",
       "      <td>40.76873687</td>\n",
       "      <td>-73.96119945</td>\n",
       "      <td>21211</td>\n",
       "      <td>Customer</td>\n",
       "      <td>NaN</td>\n",
       "      <td>0</td>\n",
       "    </tr>\n",
       "    <tr>\n",
       "      <th>4</th>\n",
       "      <td>621</td>\n",
       "      <td>2017-01-01 00:01:25</td>\n",
       "      <td>2017-01-01 00:11:47</td>\n",
       "      <td>3143</td>\n",
       "      <td>5 Ave &amp; E 78 St</td>\n",
       "      <td>40.77682863439968</td>\n",
       "      <td>-73.96388769149779</td>\n",
       "      <td>3152</td>\n",
       "      <td>3 Ave &amp; E 71 St</td>\n",
       "      <td>40.76873687</td>\n",
       "      <td>-73.96119945</td>\n",
       "      <td>26819</td>\n",
       "      <td>Customer</td>\n",
       "      <td>NaN</td>\n",
       "      <td>0</td>\n",
       "    </tr>\n",
       "  </tbody>\n",
       "</table>\n",
       "</div>"
      ],
      "text/plain": [
       "  Trip Duration          Start Time           Stop Time Start Station ID  \\\n",
       "0           680 2017-01-01 00:00:21 2017-01-01 00:11:41             3226   \n",
       "1          1282 2017-01-01 00:00:45 2017-01-01 00:22:08             3263   \n",
       "2           648 2017-01-01 00:00:57 2017-01-01 00:11:46             3143   \n",
       "3           631 2017-01-01 00:01:10 2017-01-01 00:11:42             3143   \n",
       "4           621 2017-01-01 00:01:25 2017-01-01 00:11:47             3143   \n",
       "\n",
       "            Start Station Name Start Station Latitude Start Station Longitude  \\\n",
       "0  W 82 St & Central Park West               40.78275               -73.97137   \n",
       "1       Cooper Square & E 7 St      40.72923649910006      -73.99086803197861   \n",
       "2              5 Ave & E 78 St      40.77682863439968      -73.96388769149779   \n",
       "3              5 Ave & E 78 St      40.77682863439968      -73.96388769149779   \n",
       "4              5 Ave & E 78 St      40.77682863439968      -73.96388769149779   \n",
       "\n",
       "  End Station ID             End Station Name End Station Latitude  \\\n",
       "0           3165  Central Park West & W 72 St    40.77579376683666   \n",
       "1            498           Broadway & W 32 St          40.74854862   \n",
       "2           3152              3 Ave & E 71 St          40.76873687   \n",
       "3           3152              3 Ave & E 71 St          40.76873687   \n",
       "4           3152              3 Ave & E 71 St          40.76873687   \n",
       "\n",
       "  End Station Longitude Bike ID   User Type Birth Year Gender  \n",
       "0     -73.9762057363987   25542  Subscriber       1965      2  \n",
       "1          -73.98808416   21136  Subscriber       1987      2  \n",
       "2          -73.96119945   18147    Customer        NaN      0  \n",
       "3          -73.96119945   21211    Customer        NaN      0  \n",
       "4          -73.96119945   26819    Customer        NaN      0  "
      ]
     },
     "execution_count": 13,
     "metadata": {},
     "output_type": "execute_result"
    }
   ],
   "source": [
    "del(top5_start_stations)\n",
    "#Drop NA Usertype\n",
    "print(df.shape)\n",
    "df = df.dropna(subset=['User Type'])\n",
    "print(df.shape)\n",
    "df.dtypes\n",
    "df.head()"
   ]
  },
  {
   "cell_type": "code",
   "execution_count": 14,
   "metadata": {},
   "outputs": [
    {
     "name": "stdout",
     "output_type": "stream",
     "text": [
      "(4981463, 15)\n",
      "Trip Duration                      object\n",
      "Start Time                 datetime64[ns]\n",
      "Stop Time                  datetime64[ns]\n",
      "Start Station ID                   object\n",
      "Start Station Name               category\n",
      "Start Station Latitude             object\n",
      "Start Station Longitude            object\n",
      "End Station ID                     object\n",
      "End Station Name                 category\n",
      "End Station Latitude               object\n",
      "End Station Longitude              object\n",
      "Bike ID                            object\n",
      "User Type                        category\n",
      "Birth Year                         object\n",
      "Gender                           category\n",
      "dtype: object\n",
      "(4981463, 15)\n",
      "Trip Duration                      object\n",
      "Start Time                 datetime64[ns]\n",
      "Stop Time                  datetime64[ns]\n",
      "Start Station ID                   object\n",
      "Start Station Name               category\n",
      "Start Station Latitude             object\n",
      "Start Station Longitude            object\n",
      "End Station ID                     object\n",
      "End Station Name                 category\n",
      "End Station Latitude               object\n",
      "End Station Longitude              object\n",
      "Bike ID                            object\n",
      "User Type                        category\n",
      "Birth Year                         object\n",
      "Gender                           category\n",
      "dtype: object\n"
     ]
    }
   ],
   "source": [
    "df_copy = df\n",
    "print(df.shape)\n",
    "print(df.dtypes)\n",
    "\n",
    "\n",
    "print(df_copy.shape)\n",
    "print(df_copy.dtypes)"
   ]
  },
  {
   "cell_type": "code",
   "execution_count": 15,
   "metadata": {
    "scrolled": true
   },
   "outputs": [
    {
     "name": "stdout",
     "output_type": "stream",
     "text": [
      "Subscriber    4538676\n",
      "Customer       442783\n",
      "usertype            2\n",
      "User Type           2\n",
      "Name: User Type, dtype: int64\n",
      "(4981463, 15)\n",
      "(4981459, 15)\n"
     ]
    },
    {
     "data": {
      "text/html": [
       "<div>\n",
       "<style>\n",
       "    .dataframe thead tr:only-child th {\n",
       "        text-align: right;\n",
       "    }\n",
       "\n",
       "    .dataframe thead th {\n",
       "        text-align: left;\n",
       "    }\n",
       "\n",
       "    .dataframe tbody tr th {\n",
       "        vertical-align: top;\n",
       "    }\n",
       "</style>\n",
       "<table border=\"1\" class=\"dataframe\">\n",
       "  <thead>\n",
       "    <tr style=\"text-align: right;\">\n",
       "      <th></th>\n",
       "      <th>Trip Duration</th>\n",
       "      <th>Start Time</th>\n",
       "      <th>Stop Time</th>\n",
       "      <th>Start Station ID</th>\n",
       "      <th>Start Station Name</th>\n",
       "      <th>Start Station Latitude</th>\n",
       "      <th>Start Station Longitude</th>\n",
       "      <th>End Station ID</th>\n",
       "      <th>End Station Name</th>\n",
       "      <th>End Station Latitude</th>\n",
       "      <th>End Station Longitude</th>\n",
       "      <th>Bike ID</th>\n",
       "      <th>User Type</th>\n",
       "      <th>Birth Year</th>\n",
       "      <th>Gender</th>\n",
       "    </tr>\n",
       "  </thead>\n",
       "  <tbody>\n",
       "    <tr>\n",
       "      <th>0</th>\n",
       "      <td>680</td>\n",
       "      <td>2017-01-01 00:00:21</td>\n",
       "      <td>2017-01-01 00:11:41</td>\n",
       "      <td>3226</td>\n",
       "      <td>W 82 St &amp; Central Park West</td>\n",
       "      <td>40.78275</td>\n",
       "      <td>-73.97137</td>\n",
       "      <td>3165</td>\n",
       "      <td>Central Park West &amp; W 72 St</td>\n",
       "      <td>40.77579376683666</td>\n",
       "      <td>-73.9762057363987</td>\n",
       "      <td>25542</td>\n",
       "      <td>Subscriber</td>\n",
       "      <td>1965</td>\n",
       "      <td>2</td>\n",
       "    </tr>\n",
       "    <tr>\n",
       "      <th>1</th>\n",
       "      <td>1282</td>\n",
       "      <td>2017-01-01 00:00:45</td>\n",
       "      <td>2017-01-01 00:22:08</td>\n",
       "      <td>3263</td>\n",
       "      <td>Cooper Square &amp; E 7 St</td>\n",
       "      <td>40.72923649910006</td>\n",
       "      <td>-73.99086803197861</td>\n",
       "      <td>498</td>\n",
       "      <td>Broadway &amp; W 32 St</td>\n",
       "      <td>40.74854862</td>\n",
       "      <td>-73.98808416</td>\n",
       "      <td>21136</td>\n",
       "      <td>Subscriber</td>\n",
       "      <td>1987</td>\n",
       "      <td>2</td>\n",
       "    </tr>\n",
       "    <tr>\n",
       "      <th>2</th>\n",
       "      <td>648</td>\n",
       "      <td>2017-01-01 00:00:57</td>\n",
       "      <td>2017-01-01 00:11:46</td>\n",
       "      <td>3143</td>\n",
       "      <td>5 Ave &amp; E 78 St</td>\n",
       "      <td>40.77682863439968</td>\n",
       "      <td>-73.96388769149779</td>\n",
       "      <td>3152</td>\n",
       "      <td>3 Ave &amp; E 71 St</td>\n",
       "      <td>40.76873687</td>\n",
       "      <td>-73.96119945</td>\n",
       "      <td>18147</td>\n",
       "      <td>Customer</td>\n",
       "      <td>NaN</td>\n",
       "      <td>0</td>\n",
       "    </tr>\n",
       "    <tr>\n",
       "      <th>3</th>\n",
       "      <td>631</td>\n",
       "      <td>2017-01-01 00:01:10</td>\n",
       "      <td>2017-01-01 00:11:42</td>\n",
       "      <td>3143</td>\n",
       "      <td>5 Ave &amp; E 78 St</td>\n",
       "      <td>40.77682863439968</td>\n",
       "      <td>-73.96388769149779</td>\n",
       "      <td>3152</td>\n",
       "      <td>3 Ave &amp; E 71 St</td>\n",
       "      <td>40.76873687</td>\n",
       "      <td>-73.96119945</td>\n",
       "      <td>21211</td>\n",
       "      <td>Customer</td>\n",
       "      <td>NaN</td>\n",
       "      <td>0</td>\n",
       "    </tr>\n",
       "    <tr>\n",
       "      <th>4</th>\n",
       "      <td>621</td>\n",
       "      <td>2017-01-01 00:01:25</td>\n",
       "      <td>2017-01-01 00:11:47</td>\n",
       "      <td>3143</td>\n",
       "      <td>5 Ave &amp; E 78 St</td>\n",
       "      <td>40.77682863439968</td>\n",
       "      <td>-73.96388769149779</td>\n",
       "      <td>3152</td>\n",
       "      <td>3 Ave &amp; E 71 St</td>\n",
       "      <td>40.76873687</td>\n",
       "      <td>-73.96119945</td>\n",
       "      <td>26819</td>\n",
       "      <td>Customer</td>\n",
       "      <td>NaN</td>\n",
       "      <td>0</td>\n",
       "    </tr>\n",
       "  </tbody>\n",
       "</table>\n",
       "</div>"
      ],
      "text/plain": [
       "  Trip Duration          Start Time           Stop Time Start Station ID  \\\n",
       "0           680 2017-01-01 00:00:21 2017-01-01 00:11:41             3226   \n",
       "1          1282 2017-01-01 00:00:45 2017-01-01 00:22:08             3263   \n",
       "2           648 2017-01-01 00:00:57 2017-01-01 00:11:46             3143   \n",
       "3           631 2017-01-01 00:01:10 2017-01-01 00:11:42             3143   \n",
       "4           621 2017-01-01 00:01:25 2017-01-01 00:11:47             3143   \n",
       "\n",
       "            Start Station Name Start Station Latitude Start Station Longitude  \\\n",
       "0  W 82 St & Central Park West               40.78275               -73.97137   \n",
       "1       Cooper Square & E 7 St      40.72923649910006      -73.99086803197861   \n",
       "2              5 Ave & E 78 St      40.77682863439968      -73.96388769149779   \n",
       "3              5 Ave & E 78 St      40.77682863439968      -73.96388769149779   \n",
       "4              5 Ave & E 78 St      40.77682863439968      -73.96388769149779   \n",
       "\n",
       "  End Station ID             End Station Name End Station Latitude  \\\n",
       "0           3165  Central Park West & W 72 St    40.77579376683666   \n",
       "1            498           Broadway & W 32 St          40.74854862   \n",
       "2           3152              3 Ave & E 71 St          40.76873687   \n",
       "3           3152              3 Ave & E 71 St          40.76873687   \n",
       "4           3152              3 Ave & E 71 St          40.76873687   \n",
       "\n",
       "  End Station Longitude Bike ID   User Type Birth Year Gender  \n",
       "0     -73.9762057363987   25542  Subscriber       1965      2  \n",
       "1          -73.98808416   21136  Subscriber       1987      2  \n",
       "2          -73.96119945   18147    Customer        NaN      0  \n",
       "3          -73.96119945   21211    Customer        NaN      0  \n",
       "4          -73.96119945   26819    Customer        NaN      0  "
      ]
     },
     "execution_count": 15,
     "metadata": {},
     "output_type": "execute_result"
    }
   ],
   "source": [
    "#Calculate trip duration\n",
    "print(df_copy['User Type'].value_counts())\n",
    "\n",
    "## Clean below data...\n",
    "print(df_copy.shape)\n",
    "\n",
    "###### Below cleaning did not work #######################\n",
    "    # df1= df_copy.loc[(df_copy['User Type'] != 'User Type') | (df_copy['User Type'] != 'usertype')]\n",
    "    # df1.dtypes\n",
    "    # print(df1.shape)\n",
    "    # df1.head()\n",
    "\n",
    "\n",
    "###### Below cleaning worked #######################\n",
    "bad_usertype =['User Type' , 'usertype']\n",
    "df2= df_copy[~df_copy['User Type'].isin(bad_usertype)]\n",
    "print(df2.shape)\n",
    "\n",
    "df2.head()\n",
    "#cross check if the bad_usertype is still there...\n",
    "#df2[df2['User Type'] == 'User Type']\n",
    "\n"
   ]
  },
  {
   "cell_type": "code",
   "execution_count": 16,
   "metadata": {},
   "outputs": [
    {
     "name": "stderr",
     "output_type": "stream",
     "text": [
      "C:\\Users\\mondalm\\AppData\\Local\\Continuum\\anaconda3\\lib\\site-packages\\ipykernel_launcher.py:11: SettingWithCopyWarning: \n",
      "A value is trying to be set on a copy of a slice from a DataFrame.\n",
      "Try using .loc[row_indexer,col_indexer] = value instead\n",
      "\n",
      "See the caveats in the documentation: http://pandas.pydata.org/pandas-docs/stable/indexing.html#indexing-view-versus-copy\n",
      "  # This is added back by InteractiveShellApp.init_path()\n"
     ]
    }
   ],
   "source": [
    "\n",
    "#FIX: ValueError: invalid literal for int() with base 10: 'Trip Duration'\n",
    "\n",
    "###### Below dont work #######\n",
    "#df.apply(pd.to_numeric, errors='ignore')\n",
    "#df['Trip Duration'] = df['Trip Duration'].apply(pd.to_numeric)\n",
    "#df['Trip Duration']=df['Trip Duration'].str.replace('.', '').astype(int)\n",
    "###################################\n",
    "\n",
    "\n",
    "df2['Trip Duration'] = pd.to_numeric(df2['Trip Duration'] ,errors='coerce')"
   ]
  },
  {
   "cell_type": "code",
   "execution_count": 17,
   "metadata": {},
   "outputs": [
    {
     "name": "stdout",
     "output_type": "stream",
     "text": [
      "Subscriber    4538676\n",
      "Customer       442783\n",
      "usertype            0\n",
      "User Type           0\n",
      "Name: User Type, dtype: int64\n",
      "            Avg. Trip Duration\n",
      "User Type                     \n",
      "Customer               2199.12\n",
      "Subscriber              783.30\n",
      "User Type                  NaN\n",
      "usertype                   NaN\n"
     ]
    },
    {
     "data": {
      "text/plain": [
       "User Type              object\n",
       "Avg. Trip Duration    float64\n",
       "dtype: object"
      ]
     },
     "execution_count": 17,
     "metadata": {},
     "output_type": "execute_result"
    }
   ],
   "source": [
    "print(df2['User Type'].value_counts())\n",
    "#df2.groupby(['User Type']).groups.keys()\n",
    "#df2.groupby('User Type')['Trip Duration'].mean()\n",
    "TD_user = pd.DataFrame()\n",
    "TD_user['Avg. Trip Duration'] = round(df2.groupby('User Type')['Trip Duration'].mean(),2)\n",
    "\n",
    "print(TD_user)\n",
    "\n",
    "TD_user = TD_user.reset_index()\n",
    "TD_user\n",
    "TD_user.dtypes\n",
    "TD_user['User Type'] = TD_user['User Type'] .astype('object')\n",
    "TD_user.dtypes"
   ]
  },
  {
   "cell_type": "code",
   "execution_count": 18,
   "metadata": {},
   "outputs": [
    {
     "data": {
      "image/png": "[encoded data removed]",
      "text/plain": [
       "<matplotlib.figure.Figure at 0x24139624908>"
      ]
     },
     "metadata": {},
     "output_type": "display_data"
    }
   ],
   "source": [
    "#Average trip Duration per User Type with Anomalies\n",
    "\n",
    "ax2 = sns.barplot('User Type','Avg. Trip Duration',data=TD_user , palette = \"GnBu_d\")\n",
    "ax2.set_title('Average Trip Duration by User Type (with anomalies)')\n",
    "\n",
    "ax2.set_xticklabels(ax2.get_xticklabels(),rotation=40, ha = 'right')\n",
    "ax2.set_ylabel('Avg. Trip Duration (Seconds)')\n",
    "\n",
    "# for index, row in TD_user.iterrows():\n",
    "#     ax2.text(index,row['Avg. Trip Duration']-70,(str(row['Avg. Trip Duration'])+\"  Seconds\"), \n",
    "#              color='white', ha=\"center\", fontsize = 10)\n",
    "\n",
    "plt.show()"
   ]
  },
  {
   "cell_type": "code",
   "execution_count": 19,
   "metadata": {
    "collapsed": true
   },
   "outputs": [],
   "source": [
    "del(TD_user)"
   ]
  },
  {
   "cell_type": "code",
   "execution_count": 20,
   "metadata": {},
   "outputs": [
    {
     "name": "stderr",
     "output_type": "stream",
     "text": [
      "C:\\Users\\mondalm\\AppData\\Local\\Continuum\\anaconda3\\lib\\site-packages\\numpy\\core\\fromnumeric.py:57: FutureWarning: reshape is deprecated and will raise in a subsequent release. Please use .values.reshape(...) instead\n",
      "  return getattr(obj, method)(*args, **kwds)\n"
     ]
    },
    {
     "data": {
      "image/png": "[encoded data removed]",
      "text/plain": [
       "<matplotlib.figure.Figure at 0x2414b2b7160>"
      ]
     },
     "metadata": {},
     "output_type": "display_data"
    }
   ],
   "source": [
    "#Boxplots are more informative to visualize breakdown of data\n",
    "df2.boxplot('Trip Duration', by = 'User Type')\n",
    "plt.show()"
   ]
  },
  {
   "cell_type": "code",
   "execution_count": 21,
   "metadata": {
    "collapsed": true
   },
   "outputs": [],
   "source": [
    "#Remove anomalies based on definition above\n",
    "df2 = df2.drop(df2.index[(df2['Trip Duration'] > 7200)])"
   ]
  },
  {
   "cell_type": "code",
   "execution_count": 22,
   "metadata": {},
   "outputs": [
    {
     "name": "stderr",
     "output_type": "stream",
     "text": [
      "C:\\Users\\mondalm\\AppData\\Local\\Continuum\\anaconda3\\lib\\site-packages\\numpy\\core\\fromnumeric.py:57: FutureWarning: reshape is deprecated and will raise in a subsequent release. Please use .values.reshape(...) instead\n",
      "  return getattr(obj, method)(*args, **kwds)\n"
     ]
    },
    {
     "data": {
      "image/png": "[encoded data removed]",
      "text/plain": [
       "<matplotlib.figure.Figure at 0x2414b2b7470>"
      ]
     },
     "metadata": {},
     "output_type": "display_data"
    },
    {
     "data": {
      "image/png": "[encoded data removed]",
      "text/plain": [
       "<matplotlib.figure.Figure at 0x241005277f0>"
      ]
     },
     "metadata": {},
     "output_type": "display_data"
    }
   ],
   "source": [
    "#Boxplots are more informative to visualize breakdown of data\n",
    "df2.boxplot('Trip Duration', by = 'User Type')\n",
    "plt.show()\n",
    "\n",
    "#Boxplot without outliers\n",
    "df2.boxplot('Trip Duration', by = 'User Type',showfliers=False)\n",
    "plt.show()"
   ]
  },
  {
   "cell_type": "code",
   "execution_count": 23,
   "metadata": {
    "collapsed": true
   },
   "outputs": [],
   "source": [
    "#Add Minutes column for Trip Duration\n",
    "df2['Minutes'] = df2['Trip Duration']/60\n",
    "#For Visual purposes, rounded\n",
    "df2['Minutes'] = round(df2['Minutes'])\n",
    "df2['Minutes'] = df2['Minutes'].astype(int)"
   ]
  },
  {
   "cell_type": "code",
   "execution_count": 24,
   "metadata": {},
   "outputs": [
    {
     "name": "stderr",
     "output_type": "stream",
     "text": [
      "C:\\Users\\mondalm\\AppData\\Local\\Continuum\\anaconda3\\lib\\site-packages\\numpy\\core\\fromnumeric.py:57: FutureWarning: reshape is deprecated and will raise in a subsequent release. Please use .values.reshape(...) instead\n",
      "  return getattr(obj, method)(*args, **kwds)\n"
     ]
    },
    {
     "data": {
      "image/png": "[encoded data removed]",
      "text/plain": [
       "<matplotlib.figure.Figure at 0x241004cc518>"
      ]
     },
     "metadata": {},
     "output_type": "display_data"
    },
    {
     "data": {
      "image/png": "[encoded data removed]",
      "text/plain": [
       "<matplotlib.figure.Figure at 0x24103ad2dd8>"
      ]
     },
     "metadata": {},
     "output_type": "display_data"
    }
   ],
   "source": [
    "#Final Boxplot with some outliers. Could turn of outliers with showfliers = False\n",
    "df2.boxplot('Minutes', by = 'User Type')\n",
    "plt.show()\n",
    "df2.boxplot('Minutes', by = 'User Type', showfliers = False)\n",
    "plt.show()"
   ]
  },
  {
   "cell_type": "code",
   "execution_count": 25,
   "metadata": {
    "collapsed": true
   },
   "outputs": [],
   "source": [
    "TD_user2 = pd.DataFrame()\n",
    "#TD_user2= df2.groupby('User Type').mean() -- will give mean for all numeric columns \n",
    "#TD_user2= df2.groupby('User Type').size() -- total counts for each group \n",
    "#print(df2['User Type'].value_counts()) ---- total counts for each group \n",
    "#TD_user2\n",
    "\n",
    "#Below will produce dataframe for usert type with Avg trip duration (in Mins)\n",
    "TD_user2['Avg. Trip Duration']= round(df2.groupby('User Type')['Minutes'].mean(),1)\n",
    "TD_user2 = TD_user2.reset_index()\n",
    "TD_user2['User Type']= TD_user2['User Type'].astype('object')"
   ]
  },
  {
   "cell_type": "code",
   "execution_count": 26,
   "metadata": {},
   "outputs": [
    {
     "data": {
      "image/png": "[encoded data removed]",
      "text/plain": [
       "<matplotlib.figure.Figure at 0x241021d0e80>"
      ]
     },
     "metadata": {},
     "output_type": "display_data"
    }
   ],
   "source": [
    "#Average Trip Duration Based on Minutes\n",
    "ax3 = sns.barplot('User Type', 'Avg. Trip Duration', data = TD_user2,palette=\"GnBu_d\")\n",
    "ax3.set_title('Average Trip Duration by User Type')\n",
    "#rcParams['figure.figsize'] = 12,10\n",
    "ax3.set_xticklabels(ax3.get_xticklabels(),rotation=40, ha = 'right')\n",
    "# for index, row in TD_user2.iterrows():\n",
    "#     ax3.text(row.name,row['Avg. Trip Duration']-1,(str(row['Avg. Trip Duration'])+\"  Minutes\"), \n",
    "#              color='white', ha=\"center\", fontsize = 10)\n",
    "plt.show()"
   ]
  },
  {
   "cell_type": "code",
   "execution_count": 27,
   "metadata": {
    "collapsed": true
   },
   "outputs": [],
   "source": [
    "del(TD_user2)"
   ]
  },
  {
   "cell_type": "code",
   "execution_count": 28,
   "metadata": {
    "collapsed": true
   },
   "outputs": [],
   "source": [
    "#Undo rounding for modelling purposes\n",
    "df2['Minutes'] = df2['Trip Duration']/60"
   ]
  },
  {
   "cell_type": "markdown",
   "metadata": {
    "collapsed": true
   },
   "source": [
    "Part 3: Most Popular Trip\n",
    "\n",
    "To get most popular trips, the most convenient way to do this is by using the groupby function in pandas. It's analogous to a Pivot table.\n",
    "\n",
    "The groupby function makes it extremely easy and convenient to identify the most popular trips. Visuals and transformations can be found below."
   ]
  },
  {
   "cell_type": "code",
   "execution_count": 29,
   "metadata": {},
   "outputs": [
    {
     "data": {
      "text/html": [
       "<div>\n",
       "<style>\n",
       "    .dataframe thead tr:only-child th {\n",
       "        text-align: right;\n",
       "    }\n",
       "\n",
       "    .dataframe thead th {\n",
       "        text-align: left;\n",
       "    }\n",
       "\n",
       "    .dataframe tbody tr th {\n",
       "        vertical-align: top;\n",
       "    }\n",
       "</style>\n",
       "<table border=\"1\" class=\"dataframe\">\n",
       "  <thead>\n",
       "    <tr style=\"text-align: right;\">\n",
       "      <th></th>\n",
       "      <th>index</th>\n",
       "      <th>Number of Trips</th>\n",
       "      <th>Trip</th>\n",
       "    </tr>\n",
       "  </thead>\n",
       "  <tbody>\n",
       "    <tr>\n",
       "      <th>0</th>\n",
       "      <td>91755</td>\n",
       "      <td>2899</td>\n",
       "      <td>E 7 St &amp; Avenue A to Cooper Square &amp; E 7 St</td>\n",
       "    </tr>\n",
       "    <tr>\n",
       "      <th>1</th>\n",
       "      <td>45424</td>\n",
       "      <td>1912</td>\n",
       "      <td>Central Park S &amp; 6 Ave to 5 Ave &amp; E 88 St</td>\n",
       "    </tr>\n",
       "    <tr>\n",
       "      <th>2</th>\n",
       "      <td>145608</td>\n",
       "      <td>1884</td>\n",
       "      <td>Pershing Square North to W 33 St &amp; 7 Ave</td>\n",
       "    </tr>\n",
       "    <tr>\n",
       "      <th>3</th>\n",
       "      <td>172900</td>\n",
       "      <td>1787</td>\n",
       "      <td>W 21 St &amp; 6 Ave to 9 Ave &amp; W 22 St</td>\n",
       "    </tr>\n",
       "    <tr>\n",
       "      <th>4</th>\n",
       "      <td>145226</td>\n",
       "      <td>1606</td>\n",
       "      <td>Pershing Square North to Broadway &amp; W 32 St</td>\n",
       "    </tr>\n",
       "    <tr>\n",
       "      <th>5</th>\n",
       "      <td>139599</td>\n",
       "      <td>1563</td>\n",
       "      <td>N 6 St &amp; Bedford Ave to Wythe Ave &amp; Metropolit...</td>\n",
       "    </tr>\n",
       "    <tr>\n",
       "      <th>6</th>\n",
       "      <td>145330</td>\n",
       "      <td>1475</td>\n",
       "      <td>Pershing Square North to E 24 St &amp; Park Ave S</td>\n",
       "    </tr>\n",
       "    <tr>\n",
       "      <th>7</th>\n",
       "      <td>77384</td>\n",
       "      <td>1434</td>\n",
       "      <td>E 33 St &amp; 2 Ave to W 33 St &amp; 7 Ave</td>\n",
       "    </tr>\n",
       "    <tr>\n",
       "      <th>8</th>\n",
       "      <td>175731</td>\n",
       "      <td>1418</td>\n",
       "      <td>W 26 St &amp; 8 Ave to W 27 St &amp; 10 Ave</td>\n",
       "    </tr>\n",
       "    <tr>\n",
       "      <th>9</th>\n",
       "      <td>150656</td>\n",
       "      <td>1405</td>\n",
       "      <td>Richardson St &amp; N Henry St to Graham Ave &amp; Con...</td>\n",
       "    </tr>\n",
       "  </tbody>\n",
       "</table>\n",
       "</div>"
      ],
      "text/plain": [
       "    index  Number of Trips                                               Trip\n",
       "0   91755             2899        E 7 St & Avenue A to Cooper Square & E 7 St\n",
       "1   45424             1912          Central Park S & 6 Ave to 5 Ave & E 88 St\n",
       "2  145608             1884           Pershing Square North to W 33 St & 7 Ave\n",
       "3  172900             1787                 W 21 St & 6 Ave to 9 Ave & W 22 St\n",
       "4  145226             1606        Pershing Square North to Broadway & W 32 St\n",
       "5  139599             1563  N 6 St & Bedford Ave to Wythe Ave & Metropolit...\n",
       "6  145330             1475      Pershing Square North to E 24 St & Park Ave S\n",
       "7   77384             1434                 E 33 St & 2 Ave to W 33 St & 7 Ave\n",
       "8  175731             1418                W 26 St & 8 Ave to W 27 St & 10 Ave\n",
       "9  150656             1405  Richardson St & N Henry St to Graham Ave & Con..."
      ]
     },
     "execution_count": 29,
     "metadata": {},
     "output_type": "execute_result"
    }
   ],
   "source": [
    "#Identify the 10 most popular trips\n",
    "trips_df = pd.DataFrame()\n",
    "#belwo will give dataframe cgroup by columns and thier total counts...\n",
    "trips_df = df2.groupby(['Start Station Name','End Station Name']).size().reset_index(name = 'Number of Trips')\n",
    "\n",
    "trips_df= trips_df.sort_values('Number of Trips', ascending = False)\n",
    "trips_df[\"Start Station Name\"]= trips_df[\"Start Station Name\"].astype(str)\n",
    "trips_df[\"End Station Name\"] = trips_df[\"End Station Name\"].astype(str)\n",
    "trips_df[\"Trip\"] = trips_df[\"Start Station Name\"] + \" to \" + trips_df[\"End Station Name\"]\n",
    "#Tkae 10 most popular trips from the frame\n",
    "trips_df =trips_df[:10]\n",
    "trips_df = trips_df.drop(['Start Station Name', \"End Station Name\"], axis = 1)\n",
    "#trips_df\n",
    "trips_df = trips_df.reset_index()\n",
    "trips_df"
   ]
  },
  {
   "cell_type": "code",
   "execution_count": 30,
   "metadata": {},
   "outputs": [
    {
     "data": {
      "image/png": "[encoded data removed]",
      "text/plain": [
       "<matplotlib.figure.Figure at 0x24103aedbe0>"
      ]
     },
     "metadata": {},
     "output_type": "display_data"
    }
   ],
   "source": [
    "ax4 = sns.barplot('Number of Trips','Trip', data = trips_df,palette=\"GnBu_d\")\n",
    "ax4.set_title('Most Popular Trips', fontsize = 20)\n",
    "ax4.set_ylabel(\"Trip\",fontsize=16)\n",
    "ax4.set_xlabel(\"Number of Trips\",fontsize=16)\n",
    "for index, row in trips_df.iterrows():\n",
    "    ax4.text(row['Number of Trips']-220,index,row['Number of Trips'], \n",
    "             color='white', ha=\"center\",fontsize = 10)\n",
    "plt.show()"
   ]
  },
  {
   "cell_type": "code",
   "execution_count": 31,
   "metadata": {
    "collapsed": true
   },
   "outputs": [],
   "source": [
    "del(trips_df)"
   ]
  },
  {
   "cell_type": "code",
   "execution_count": 32,
   "metadata": {},
   "outputs": [
    {
     "data": {
      "text/plain": [
       "(4773473, 16)"
      ]
     },
     "execution_count": 32,
     "metadata": {},
     "output_type": "execute_result"
    }
   ],
   "source": [
    "df2.dtypes\n",
    "df2['Birth Year']=df2['Birth Year'].astype('float')\n",
    "#df2['Birth Year'] = pd.to_numeric(df2['Birth Year'] ,errors='coerce')\n",
    "df2.dtypes\n",
    "#Drop the tail end of birth years 2 standard deviations below the mean\n",
    "#df2['Birth Year'].mean()-(2*df2['Birth Year'].std()) --> 1954.3506877991333\n",
    "df2.shape\n",
    "df2 = df2.drop(df2.index[(df2['Birth Year'] < 1956)])\n",
    "df2.shape"
   ]
  },
  {
   "cell_type": "code",
   "execution_count": 33,
   "metadata": {
    "collapsed": true
   },
   "outputs": [],
   "source": [
    "#Combine coordinates to calculate distance based on Vincenty\n",
    "df2['Start Coordinates'] = list(zip(df2['Start Station Latitude'], df2['Start Station Longitude']))\n",
    "df2['End Coordinates'] = list(zip(df2['End Station Latitude'], df2['End Station Longitude']))"
   ]
  },
  {
   "cell_type": "code",
   "execution_count": 36,
   "metadata": {},
   "outputs": [
    {
     "data": {
      "text/plain": [
       "(4773473, 18)"
      ]
     },
     "execution_count": 36,
     "metadata": {},
     "output_type": "execute_result"
    }
   ],
   "source": [
    "# from geopy.distance import vincenty\n",
    "# dist = []\n",
    "# for i in range(len(df2)):\n",
    "#     #print(vincenty(df2.iloc[i]['Start Coordinates'],df2.iloc[i]['End Coordinates']).miles)\n",
    "#     dist.append(vincenty(df2.iloc[i]['Start Coordinates'],df2.iloc[i]['End Coordinates']).miles)\n",
    "# #     if (i%1000000==0):\n",
    "# #         print(i)\n",
    "# dist_df = pd.DataFrame({'Distance':dist})\n",
    "# dist_df.to_csv('C:/Mithun/study/Citibike-analysis/Distance.csv')\n",
    "\n",
    "df2.shape\n",
    "        \n",
    " #(4773473, 18)       "
   ]
  },
  {
   "cell_type": "code",
   "execution_count": 60,
   "metadata": {},
   "outputs": [
    {
     "name": "stdout",
     "output_type": "stream",
     "text": [
      "   0         1\n",
      "0  0  0.542899\n",
      "1  1  1.340572\n",
      "2  2  0.575889\n",
      "3  3  0.575889\n",
      "4  4  0.575889\n"
     ]
    }
   ],
   "source": [
    "dist= read_csv('C:/Mithun/study/Citibike-analysis/Distance.csv',low_memory=False,skiprows=1,header = None)\n",
    "print(dist.head())\n",
    "dist = dist.drop([0], axis = 1)\n"
   ]
  },
  {
   "cell_type": "code",
   "execution_count": 62,
   "metadata": {},
   "outputs": [
    {
     "name": "stdout",
     "output_type": "stream",
     "text": [
      "          1\n",
      "0  0.542899\n",
      "1  1.340572\n",
      "2  0.575889\n",
      "3  0.575889\n",
      "4  0.575889\n"
     ]
    },
    {
     "data": {
      "text/html": [
       "<div>\n",
       "<style>\n",
       "    .dataframe thead tr:only-child th {\n",
       "        text-align: right;\n",
       "    }\n",
       "\n",
       "    .dataframe thead th {\n",
       "        text-align: left;\n",
       "    }\n",
       "\n",
       "    .dataframe tbody tr th {\n",
       "        vertical-align: top;\n",
       "    }\n",
       "</style>\n",
       "<table border=\"1\" class=\"dataframe\">\n",
       "  <thead>\n",
       "    <tr style=\"text-align: right;\">\n",
       "      <th></th>\n",
       "      <th>Trip Duration</th>\n",
       "      <th>Start Time</th>\n",
       "      <th>Stop Time</th>\n",
       "      <th>Start Station ID</th>\n",
       "      <th>Start Station Name</th>\n",
       "      <th>Start Station Latitude</th>\n",
       "      <th>Start Station Longitude</th>\n",
       "      <th>End Station ID</th>\n",
       "      <th>End Station Name</th>\n",
       "      <th>End Station Latitude</th>\n",
       "      <th>End Station Longitude</th>\n",
       "      <th>Bike ID</th>\n",
       "      <th>User Type</th>\n",
       "      <th>Birth Year</th>\n",
       "      <th>Gender</th>\n",
       "      <th>Minutes</th>\n",
       "      <th>Start Coordinates</th>\n",
       "      <th>End Coordinates</th>\n",
       "      <th>Distance</th>\n",
       "    </tr>\n",
       "  </thead>\n",
       "  <tbody>\n",
       "    <tr>\n",
       "      <th>0</th>\n",
       "      <td>680</td>\n",
       "      <td>2017-01-01 00:00:21</td>\n",
       "      <td>2017-01-01 00:11:41</td>\n",
       "      <td>3226</td>\n",
       "      <td>W 82 St &amp; Central Park West</td>\n",
       "      <td>40.78275</td>\n",
       "      <td>-73.97137</td>\n",
       "      <td>3165</td>\n",
       "      <td>Central Park West &amp; W 72 St</td>\n",
       "      <td>40.77579376683666</td>\n",
       "      <td>-73.9762057363987</td>\n",
       "      <td>25542</td>\n",
       "      <td>Subscriber</td>\n",
       "      <td>1965.0</td>\n",
       "      <td>2</td>\n",
       "      <td>11.333333</td>\n",
       "      <td>(40.78275, -73.97137)</td>\n",
       "      <td>(40.77579376683666, -73.9762057363987)</td>\n",
       "      <td>0.542899</td>\n",
       "    </tr>\n",
       "    <tr>\n",
       "      <th>1</th>\n",
       "      <td>1282</td>\n",
       "      <td>2017-01-01 00:00:45</td>\n",
       "      <td>2017-01-01 00:22:08</td>\n",
       "      <td>3263</td>\n",
       "      <td>Cooper Square &amp; E 7 St</td>\n",
       "      <td>40.72923649910006</td>\n",
       "      <td>-73.99086803197861</td>\n",
       "      <td>498</td>\n",
       "      <td>Broadway &amp; W 32 St</td>\n",
       "      <td>40.74854862</td>\n",
       "      <td>-73.98808416</td>\n",
       "      <td>21136</td>\n",
       "      <td>Subscriber</td>\n",
       "      <td>1987.0</td>\n",
       "      <td>2</td>\n",
       "      <td>21.366667</td>\n",
       "      <td>(40.72923649910006, -73.99086803197861)</td>\n",
       "      <td>(40.74854862, -73.98808416)</td>\n",
       "      <td>1.340572</td>\n",
       "    </tr>\n",
       "    <tr>\n",
       "      <th>2</th>\n",
       "      <td>648</td>\n",
       "      <td>2017-01-01 00:00:57</td>\n",
       "      <td>2017-01-01 00:11:46</td>\n",
       "      <td>3143</td>\n",
       "      <td>5 Ave &amp; E 78 St</td>\n",
       "      <td>40.77682863439968</td>\n",
       "      <td>-73.96388769149779</td>\n",
       "      <td>3152</td>\n",
       "      <td>3 Ave &amp; E 71 St</td>\n",
       "      <td>40.76873687</td>\n",
       "      <td>-73.96119945</td>\n",
       "      <td>18147</td>\n",
       "      <td>Customer</td>\n",
       "      <td>NaN</td>\n",
       "      <td>0</td>\n",
       "      <td>10.800000</td>\n",
       "      <td>(40.77682863439968, -73.96388769149779)</td>\n",
       "      <td>(40.76873687, -73.96119945)</td>\n",
       "      <td>0.575889</td>\n",
       "    </tr>\n",
       "    <tr>\n",
       "      <th>3</th>\n",
       "      <td>631</td>\n",
       "      <td>2017-01-01 00:01:10</td>\n",
       "      <td>2017-01-01 00:11:42</td>\n",
       "      <td>3143</td>\n",
       "      <td>5 Ave &amp; E 78 St</td>\n",
       "      <td>40.77682863439968</td>\n",
       "      <td>-73.96388769149779</td>\n",
       "      <td>3152</td>\n",
       "      <td>3 Ave &amp; E 71 St</td>\n",
       "      <td>40.76873687</td>\n",
       "      <td>-73.96119945</td>\n",
       "      <td>21211</td>\n",
       "      <td>Customer</td>\n",
       "      <td>NaN</td>\n",
       "      <td>0</td>\n",
       "      <td>10.516667</td>\n",
       "      <td>(40.77682863439968, -73.96388769149779)</td>\n",
       "      <td>(40.76873687, -73.96119945)</td>\n",
       "      <td>0.575889</td>\n",
       "    </tr>\n",
       "    <tr>\n",
       "      <th>4</th>\n",
       "      <td>621</td>\n",
       "      <td>2017-01-01 00:01:25</td>\n",
       "      <td>2017-01-01 00:11:47</td>\n",
       "      <td>3143</td>\n",
       "      <td>5 Ave &amp; E 78 St</td>\n",
       "      <td>40.77682863439968</td>\n",
       "      <td>-73.96388769149779</td>\n",
       "      <td>3152</td>\n",
       "      <td>3 Ave &amp; E 71 St</td>\n",
       "      <td>40.76873687</td>\n",
       "      <td>-73.96119945</td>\n",
       "      <td>26819</td>\n",
       "      <td>Customer</td>\n",
       "      <td>NaN</td>\n",
       "      <td>0</td>\n",
       "      <td>10.350000</td>\n",
       "      <td>(40.77682863439968, -73.96388769149779)</td>\n",
       "      <td>(40.76873687, -73.96119945)</td>\n",
       "      <td>0.575889</td>\n",
       "    </tr>\n",
       "  </tbody>\n",
       "</table>\n",
       "</div>"
      ],
      "text/plain": [
       "   Trip Duration          Start Time           Stop Time Start Station ID  \\\n",
       "0            680 2017-01-01 00:00:21 2017-01-01 00:11:41             3226   \n",
       "1           1282 2017-01-01 00:00:45 2017-01-01 00:22:08             3263   \n",
       "2            648 2017-01-01 00:00:57 2017-01-01 00:11:46             3143   \n",
       "3            631 2017-01-01 00:01:10 2017-01-01 00:11:42             3143   \n",
       "4            621 2017-01-01 00:01:25 2017-01-01 00:11:47             3143   \n",
       "\n",
       "            Start Station Name Start Station Latitude Start Station Longitude  \\\n",
       "0  W 82 St & Central Park West               40.78275               -73.97137   \n",
       "1       Cooper Square & E 7 St      40.72923649910006      -73.99086803197861   \n",
       "2              5 Ave & E 78 St      40.77682863439968      -73.96388769149779   \n",
       "3              5 Ave & E 78 St      40.77682863439968      -73.96388769149779   \n",
       "4              5 Ave & E 78 St      40.77682863439968      -73.96388769149779   \n",
       "\n",
       "  End Station ID             End Station Name End Station Latitude  \\\n",
       "0           3165  Central Park West & W 72 St    40.77579376683666   \n",
       "1            498           Broadway & W 32 St          40.74854862   \n",
       "2           3152              3 Ave & E 71 St          40.76873687   \n",
       "3           3152              3 Ave & E 71 St          40.76873687   \n",
       "4           3152              3 Ave & E 71 St          40.76873687   \n",
       "\n",
       "  End Station Longitude Bike ID   User Type  Birth Year Gender    Minutes  \\\n",
       "0     -73.9762057363987   25542  Subscriber      1965.0      2  11.333333   \n",
       "1          -73.98808416   21136  Subscriber      1987.0      2  21.366667   \n",
       "2          -73.96119945   18147    Customer         NaN      0  10.800000   \n",
       "3          -73.96119945   21211    Customer         NaN      0  10.516667   \n",
       "4          -73.96119945   26819    Customer         NaN      0  10.350000   \n",
       "\n",
       "                         Start Coordinates  \\\n",
       "0                    (40.78275, -73.97137)   \n",
       "1  (40.72923649910006, -73.99086803197861)   \n",
       "2  (40.77682863439968, -73.96388769149779)   \n",
       "3  (40.77682863439968, -73.96388769149779)   \n",
       "4  (40.77682863439968, -73.96388769149779)   \n",
       "\n",
       "                          End Coordinates  Distance  \n",
       "0  (40.77579376683666, -73.9762057363987)  0.542899  \n",
       "1             (40.74854862, -73.98808416)  1.340572  \n",
       "2             (40.76873687, -73.96119945)  0.575889  \n",
       "3             (40.76873687, -73.96119945)  0.575889  \n",
       "4             (40.76873687, -73.96119945)  0.575889  "
      ]
     },
     "execution_count": 62,
     "metadata": {},
     "output_type": "execute_result"
    }
   ],
   "source": [
    "\n",
    "print(dist.head())\n",
    "#dist.reset_index()\n",
    "# df = df.drop('index',axis =1)\n",
    "dist.head()\n",
    "#dist.shape\n",
    "df2['Distance']= dist\n",
    "df2.head()"
   ]
  },
  {
   "cell_type": "code",
   "execution_count": 63,
   "metadata": {},
   "outputs": [
    {
     "name": "stdout",
     "output_type": "stream",
     "text": [
      "0.5428991489820616\n"
     ]
    }
   ],
   "source": [
    "#Test check\n",
    "print(vincenty((40.78275, -73.97137),(40.77579376683666, -73.9762057363987)).miles)"
   ]
  },
  {
   "cell_type": "code",
   "execution_count": 64,
   "metadata": {
    "collapsed": true
   },
   "outputs": [],
   "source": [
    "del(dist)"
   ]
  },
  {
   "cell_type": "code",
   "execution_count": 67,
   "metadata": {
    "collapsed": true
   },
   "outputs": [],
   "source": [
    "#Replace missing birth year by median based on speed and gender\n",
    "df2['Birth Year']= df2.groupby(['Gender','Start Station ID'])['Birth Year']\\\n",
    ".transform(lambda x : x.fillna(x.median()))\n"
   ]
  },
  {
   "cell_type": "code",
   "execution_count": 68,
   "metadata": {},
   "outputs": [
    {
     "name": "stdout",
     "output_type": "stream",
     "text": [
      "                          Total   Percent\n",
      "Distance                 292712  6.132055\n",
      "Birth Year                 2360  0.049440\n",
      "End Station Name              0  0.000000\n",
      "Start Time                    0  0.000000\n",
      "Stop Time                     0  0.000000\n",
      "Start Station ID              0  0.000000\n",
      "Start Station Name            0  0.000000\n",
      "Start Station Latitude        0  0.000000\n",
      "Start Station Longitude       0  0.000000\n",
      "End Station ID                0  0.000000\n",
      "End Station Latitude          0  0.000000\n",
      "End Coordinates               0  0.000000\n",
      "End Station Longitude         0  0.000000\n",
      "Bike ID                       0  0.000000\n",
      "User Type                     0  0.000000\n",
      "Gender                        0  0.000000\n",
      "Minutes                       0  0.000000\n",
      "Start Coordinates             0  0.000000\n",
      "Trip Duration                 0  0.000000\n",
      "Trip Duration                       int64\n",
      "Start Time                 datetime64[ns]\n",
      "Stop Time                  datetime64[ns]\n",
      "Start Station ID                   object\n",
      "Start Station Name               category\n",
      "Start Station Latitude             object\n",
      "Start Station Longitude            object\n",
      "End Station ID                     object\n",
      "End Station Name                 category\n",
      "End Station Latitude               object\n",
      "End Station Longitude              object\n",
      "Bike ID                            object\n",
      "User Type                        category\n",
      "Birth Year                        float64\n",
      "Gender                           category\n",
      "Minutes                           float64\n",
      "Start Coordinates                  object\n",
      "End Coordinates                    object\n",
      "Distance                          float64\n",
      "dtype: object\n"
     ]
    }
   ],
   "source": [
    "print(missing_data(df2))\n",
    "print(df2.dtypes)"
   ]
  },
  {
   "cell_type": "code",
   "execution_count": 69,
   "metadata": {
    "collapsed": true
   },
   "outputs": [],
   "source": [
    "#Still have a few nulls\n",
    "df2 = df2.dropna(subset=['Birth Year'])"
   ]
  },
  {
   "cell_type": "code",
   "execution_count": 70,
   "metadata": {},
   "outputs": [
    {
     "name": "stdout",
     "output_type": "stream",
     "text": [
      "                          Total   Percent\n",
      "Distance                 292343  6.127354\n",
      "End Station Name              0  0.000000\n",
      "Start Time                    0  0.000000\n",
      "Stop Time                     0  0.000000\n",
      "Start Station ID              0  0.000000\n",
      "Start Station Name            0  0.000000\n",
      "Start Station Latitude        0  0.000000\n",
      "Start Station Longitude       0  0.000000\n",
      "End Station ID                0  0.000000\n",
      "End Station Latitude          0  0.000000\n",
      "End Coordinates               0  0.000000\n",
      "End Station Longitude         0  0.000000\n",
      "Bike ID                       0  0.000000\n",
      "User Type                     0  0.000000\n",
      "Birth Year                    0  0.000000\n",
      "Gender                        0  0.000000\n",
      "Minutes                       0  0.000000\n",
      "Start Coordinates             0  0.000000\n",
      "Trip Duration                 0  0.000000\n",
      "Trip Duration                       int64\n",
      "Start Time                 datetime64[ns]\n",
      "Stop Time                  datetime64[ns]\n",
      "Start Station ID                   object\n",
      "Start Station Name               category\n",
      "Start Station Latitude             object\n",
      "Start Station Longitude            object\n",
      "End Station ID                     object\n",
      "End Station Name                 category\n",
      "End Station Latitude               object\n",
      "End Station Longitude              object\n",
      "Bike ID                            object\n",
      "User Type                        category\n",
      "Birth Year                        float64\n",
      "Gender                           category\n",
      "Minutes                           float64\n",
      "Start Coordinates                  object\n",
      "End Coordinates                    object\n",
      "Distance                          float64\n",
      "dtype: object\n"
     ]
    }
   ],
   "source": [
    "print(missing_data(df2))"
   ]
  },
  {
   "cell_type": "code",
   "execution_count": 71,
   "metadata": {},
   "outputs": [
    {
     "data": {
      "text/html": [
       "<div>\n",
       "<style>\n",
       "    .dataframe thead tr:only-child th {\n",
       "        text-align: right;\n",
       "    }\n",
       "\n",
       "    .dataframe thead th {\n",
       "        text-align: left;\n",
       "    }\n",
       "\n",
       "    .dataframe tbody tr th {\n",
       "        vertical-align: top;\n",
       "    }\n",
       "</style>\n",
       "<table border=\"1\" class=\"dataframe\">\n",
       "  <thead>\n",
       "    <tr style=\"text-align: right;\">\n",
       "      <th></th>\n",
       "      <th>Trip Duration</th>\n",
       "      <th>Start Time</th>\n",
       "      <th>Stop Time</th>\n",
       "      <th>Start Station ID</th>\n",
       "      <th>Start Station Name</th>\n",
       "      <th>Start Station Latitude</th>\n",
       "      <th>Start Station Longitude</th>\n",
       "      <th>End Station ID</th>\n",
       "      <th>End Station Name</th>\n",
       "      <th>End Station Latitude</th>\n",
       "      <th>End Station Longitude</th>\n",
       "      <th>Bike ID</th>\n",
       "      <th>User Type</th>\n",
       "      <th>Birth Year</th>\n",
       "      <th>Gender</th>\n",
       "      <th>Minutes</th>\n",
       "      <th>Start Coordinates</th>\n",
       "      <th>End Coordinates</th>\n",
       "      <th>Distance</th>\n",
       "      <th>Age</th>\n",
       "    </tr>\n",
       "  </thead>\n",
       "  <tbody>\n",
       "    <tr>\n",
       "      <th>0</th>\n",
       "      <td>680</td>\n",
       "      <td>2017-01-01 00:00:21</td>\n",
       "      <td>2017-01-01 00:11:41</td>\n",
       "      <td>3226</td>\n",
       "      <td>W 82 St &amp; Central Park West</td>\n",
       "      <td>40.78275</td>\n",
       "      <td>-73.97137</td>\n",
       "      <td>3165</td>\n",
       "      <td>Central Park West &amp; W 72 St</td>\n",
       "      <td>40.77579376683666</td>\n",
       "      <td>-73.9762057363987</td>\n",
       "      <td>25542</td>\n",
       "      <td>Subscriber</td>\n",
       "      <td>1965.0</td>\n",
       "      <td>2</td>\n",
       "      <td>11.333333</td>\n",
       "      <td>(40.78275, -73.97137)</td>\n",
       "      <td>(40.77579376683666, -73.9762057363987)</td>\n",
       "      <td>0.542899</td>\n",
       "      <td>53</td>\n",
       "    </tr>\n",
       "    <tr>\n",
       "      <th>1</th>\n",
       "      <td>1282</td>\n",
       "      <td>2017-01-01 00:00:45</td>\n",
       "      <td>2017-01-01 00:22:08</td>\n",
       "      <td>3263</td>\n",
       "      <td>Cooper Square &amp; E 7 St</td>\n",
       "      <td>40.72923649910006</td>\n",
       "      <td>-73.99086803197861</td>\n",
       "      <td>498</td>\n",
       "      <td>Broadway &amp; W 32 St</td>\n",
       "      <td>40.74854862</td>\n",
       "      <td>-73.98808416</td>\n",
       "      <td>21136</td>\n",
       "      <td>Subscriber</td>\n",
       "      <td>1987.0</td>\n",
       "      <td>2</td>\n",
       "      <td>21.366667</td>\n",
       "      <td>(40.72923649910006, -73.99086803197861)</td>\n",
       "      <td>(40.74854862, -73.98808416)</td>\n",
       "      <td>1.340572</td>\n",
       "      <td>31</td>\n",
       "    </tr>\n",
       "    <tr>\n",
       "      <th>2</th>\n",
       "      <td>648</td>\n",
       "      <td>2017-01-01 00:00:57</td>\n",
       "      <td>2017-01-01 00:11:46</td>\n",
       "      <td>3143</td>\n",
       "      <td>5 Ave &amp; E 78 St</td>\n",
       "      <td>40.77682863439968</td>\n",
       "      <td>-73.96388769149779</td>\n",
       "      <td>3152</td>\n",
       "      <td>3 Ave &amp; E 71 St</td>\n",
       "      <td>40.76873687</td>\n",
       "      <td>-73.96119945</td>\n",
       "      <td>18147</td>\n",
       "      <td>Customer</td>\n",
       "      <td>1962.0</td>\n",
       "      <td>0</td>\n",
       "      <td>10.800000</td>\n",
       "      <td>(40.77682863439968, -73.96388769149779)</td>\n",
       "      <td>(40.76873687, -73.96119945)</td>\n",
       "      <td>0.575889</td>\n",
       "      <td>56</td>\n",
       "    </tr>\n",
       "    <tr>\n",
       "      <th>3</th>\n",
       "      <td>631</td>\n",
       "      <td>2017-01-01 00:01:10</td>\n",
       "      <td>2017-01-01 00:11:42</td>\n",
       "      <td>3143</td>\n",
       "      <td>5 Ave &amp; E 78 St</td>\n",
       "      <td>40.77682863439968</td>\n",
       "      <td>-73.96388769149779</td>\n",
       "      <td>3152</td>\n",
       "      <td>3 Ave &amp; E 71 St</td>\n",
       "      <td>40.76873687</td>\n",
       "      <td>-73.96119945</td>\n",
       "      <td>21211</td>\n",
       "      <td>Customer</td>\n",
       "      <td>1962.0</td>\n",
       "      <td>0</td>\n",
       "      <td>10.516667</td>\n",
       "      <td>(40.77682863439968, -73.96388769149779)</td>\n",
       "      <td>(40.76873687, -73.96119945)</td>\n",
       "      <td>0.575889</td>\n",
       "      <td>56</td>\n",
       "    </tr>\n",
       "    <tr>\n",
       "      <th>4</th>\n",
       "      <td>621</td>\n",
       "      <td>2017-01-01 00:01:25</td>\n",
       "      <td>2017-01-01 00:11:47</td>\n",
       "      <td>3143</td>\n",
       "      <td>5 Ave &amp; E 78 St</td>\n",
       "      <td>40.77682863439968</td>\n",
       "      <td>-73.96388769149779</td>\n",
       "      <td>3152</td>\n",
       "      <td>3 Ave &amp; E 71 St</td>\n",
       "      <td>40.76873687</td>\n",
       "      <td>-73.96119945</td>\n",
       "      <td>26819</td>\n",
       "      <td>Customer</td>\n",
       "      <td>1962.0</td>\n",
       "      <td>0</td>\n",
       "      <td>10.350000</td>\n",
       "      <td>(40.77682863439968, -73.96388769149779)</td>\n",
       "      <td>(40.76873687, -73.96119945)</td>\n",
       "      <td>0.575889</td>\n",
       "      <td>56</td>\n",
       "    </tr>\n",
       "  </tbody>\n",
       "</table>\n",
       "</div>"
      ],
      "text/plain": [
       "   Trip Duration          Start Time           Stop Time Start Station ID  \\\n",
       "0            680 2017-01-01 00:00:21 2017-01-01 00:11:41             3226   \n",
       "1           1282 2017-01-01 00:00:45 2017-01-01 00:22:08             3263   \n",
       "2            648 2017-01-01 00:00:57 2017-01-01 00:11:46             3143   \n",
       "3            631 2017-01-01 00:01:10 2017-01-01 00:11:42             3143   \n",
       "4            621 2017-01-01 00:01:25 2017-01-01 00:11:47             3143   \n",
       "\n",
       "            Start Station Name Start Station Latitude Start Station Longitude  \\\n",
       "0  W 82 St & Central Park West               40.78275               -73.97137   \n",
       "1       Cooper Square & E 7 St      40.72923649910006      -73.99086803197861   \n",
       "2              5 Ave & E 78 St      40.77682863439968      -73.96388769149779   \n",
       "3              5 Ave & E 78 St      40.77682863439968      -73.96388769149779   \n",
       "4              5 Ave & E 78 St      40.77682863439968      -73.96388769149779   \n",
       "\n",
       "  End Station ID             End Station Name End Station Latitude  \\\n",
       "0           3165  Central Park West & W 72 St    40.77579376683666   \n",
       "1            498           Broadway & W 32 St          40.74854862   \n",
       "2           3152              3 Ave & E 71 St          40.76873687   \n",
       "3           3152              3 Ave & E 71 St          40.76873687   \n",
       "4           3152              3 Ave & E 71 St          40.76873687   \n",
       "\n",
       "  End Station Longitude Bike ID   User Type  Birth Year Gender    Minutes  \\\n",
       "0     -73.9762057363987   25542  Subscriber      1965.0      2  11.333333   \n",
       "1          -73.98808416   21136  Subscriber      1987.0      2  21.366667   \n",
       "2          -73.96119945   18147    Customer      1962.0      0  10.800000   \n",
       "3          -73.96119945   21211    Customer      1962.0      0  10.516667   \n",
       "4          -73.96119945   26819    Customer      1962.0      0  10.350000   \n",
       "\n",
       "                         Start Coordinates  \\\n",
       "0                    (40.78275, -73.97137)   \n",
       "1  (40.72923649910006, -73.99086803197861)   \n",
       "2  (40.77682863439968, -73.96388769149779)   \n",
       "3  (40.77682863439968, -73.96388769149779)   \n",
       "4  (40.77682863439968, -73.96388769149779)   \n",
       "\n",
       "                          End Coordinates  Distance  Age  \n",
       "0  (40.77579376683666, -73.9762057363987)  0.542899   53  \n",
       "1             (40.74854862, -73.98808416)  1.340572   31  \n",
       "2             (40.76873687, -73.96119945)  0.575889   56  \n",
       "3             (40.76873687, -73.96119945)  0.575889   56  \n",
       "4             (40.76873687, -73.96119945)  0.575889   56  "
      ]
     },
     "execution_count": 71,
     "metadata": {},
     "output_type": "execute_result"
    }
   ],
   "source": [
    "#Calculate age and drop circular/roundtrips\n",
    "df2['Age'] = 2018 - df2['Birth Year']\n",
    "df2['Age'] = df2['Age'].astype(int)\n",
    "df2.head()"
   ]
  },
  {
   "cell_type": "code",
   "execution_count": 72,
   "metadata": {},
   "outputs": [
    {
     "data": {
      "text/plain": [
       "(4771113, 20)"
      ]
     },
     "execution_count": 72,
     "metadata": {},
     "output_type": "execute_result"
    }
   ],
   "source": [
    "df2.shape"
   ]
  },
  {
   "cell_type": "code",
   "execution_count": 73,
   "metadata": {},
   "outputs": [
    {
     "data": {
      "text/plain": [
       "(4766757, 20)"
      ]
     },
     "execution_count": 73,
     "metadata": {},
     "output_type": "execute_result"
    }
   ],
   "source": [
    "df2 = df2.drop(df2.index[(df2['Distance'] == 0)])\n",
    "df2.shape"
   ]
  },
  {
   "cell_type": "code",
   "execution_count": 75,
   "metadata": {},
   "outputs": [],
   "source": [
    "df2['Distance'] = df2.groupby(['Gender','Start Station ID'])['Distance']\\\n",
    ".transform(lambda x: x.fillna(x.median()))"
   ]
  },
  {
   "cell_type": "code",
   "execution_count": 76,
   "metadata": {},
   "outputs": [
    {
     "name": "stdout",
     "output_type": "stream",
     "text": [
      "                         Total   Percent\n",
      "Distance                   278  0.005832\n",
      "Age                          0  0.000000\n",
      "Start Time                   0  0.000000\n",
      "Stop Time                    0  0.000000\n",
      "Start Station ID             0  0.000000\n",
      "Start Station Name           0  0.000000\n",
      "Start Station Latitude       0  0.000000\n",
      "Start Station Longitude      0  0.000000\n",
      "End Station ID               0  0.000000\n",
      "End Station Name             0  0.000000\n",
      "End Station Latitude         0  0.000000\n",
      "End Station Longitude        0  0.000000\n",
      "Bike ID                      0  0.000000\n",
      "User Type                    0  0.000000\n",
      "Birth Year                   0  0.000000\n",
      "Gender                       0  0.000000\n",
      "Minutes                      0  0.000000\n",
      "Start Coordinates            0  0.000000\n",
      "End Coordinates              0  0.000000\n",
      "Trip Duration                0  0.000000\n"
     ]
    }
   ],
   "source": [
    "print(missing_data(df2))"
   ]
  },
  {
   "cell_type": "code",
   "execution_count": 77,
   "metadata": {
    "collapsed": true
   },
   "outputs": [],
   "source": [
    "df2['min_mile'] = round(df2['Minutes']/df2['Distance'], 2)\n",
    "df2['mile_hour'] = round(df2['Distance']/(df2['Minutes']/60),2)"
   ]
  },
  {
   "cell_type": "code",
   "execution_count": 82,
   "metadata": {},
   "outputs": [
    {
     "name": "stdout",
     "output_type": "stream",
     "text": [
      "Trip Duration                       int64\n",
      "Start Time                 datetime64[ns]\n",
      "Stop Time                  datetime64[ns]\n",
      "Start Station ID                   object\n",
      "Start Station Name               category\n",
      "Start Station Latitude             object\n",
      "Start Station Longitude            object\n",
      "End Station ID                     object\n",
      "End Station Name                 category\n",
      "End Station Latitude               object\n",
      "End Station Longitude              object\n",
      "Bike ID                            object\n",
      "User Type                        category\n",
      "Birth Year                        float64\n",
      "Gender                           category\n",
      "Minutes                           float64\n",
      "Start Coordinates                  object\n",
      "End Coordinates                    object\n",
      "Distance                          float64\n",
      "Age                                 int32\n",
      "min_mile                          float64\n",
      "mile_hour                         float64\n",
      "dtype: object\n"
     ]
    },
    {
     "data": {
      "text/html": [
       "<div>\n",
       "<style>\n",
       "    .dataframe thead tr:only-child th {\n",
       "        text-align: right;\n",
       "    }\n",
       "\n",
       "    .dataframe thead th {\n",
       "        text-align: left;\n",
       "    }\n",
       "\n",
       "    .dataframe tbody tr th {\n",
       "        vertical-align: top;\n",
       "    }\n",
       "</style>\n",
       "<table border=\"1\" class=\"dataframe\">\n",
       "  <thead>\n",
       "    <tr style=\"text-align: right;\">\n",
       "      <th></th>\n",
       "      <th>Trip Duration</th>\n",
       "      <th>Start Time</th>\n",
       "      <th>Stop Time</th>\n",
       "      <th>Start Station ID</th>\n",
       "      <th>Start Station Name</th>\n",
       "      <th>Start Station Latitude</th>\n",
       "      <th>Start Station Longitude</th>\n",
       "      <th>End Station ID</th>\n",
       "      <th>End Station Name</th>\n",
       "      <th>End Station Latitude</th>\n",
       "      <th>...</th>\n",
       "      <th>User Type</th>\n",
       "      <th>Birth Year</th>\n",
       "      <th>Gender</th>\n",
       "      <th>Minutes</th>\n",
       "      <th>Start Coordinates</th>\n",
       "      <th>End Coordinates</th>\n",
       "      <th>Distance</th>\n",
       "      <th>Age</th>\n",
       "      <th>min_mile</th>\n",
       "      <th>mile_hour</th>\n",
       "    </tr>\n",
       "  </thead>\n",
       "  <tbody>\n",
       "    <tr>\n",
       "      <th>0</th>\n",
       "      <td>680</td>\n",
       "      <td>2017-01-01 00:00:21</td>\n",
       "      <td>2017-01-01 00:11:41</td>\n",
       "      <td>3226</td>\n",
       "      <td>W 82 St &amp; Central Park West</td>\n",
       "      <td>40.78275</td>\n",
       "      <td>-73.97137</td>\n",
       "      <td>3165</td>\n",
       "      <td>Central Park West &amp; W 72 St</td>\n",
       "      <td>40.77579376683666</td>\n",
       "      <td>...</td>\n",
       "      <td>Subscriber</td>\n",
       "      <td>1965.0</td>\n",
       "      <td>2</td>\n",
       "      <td>11.333333</td>\n",
       "      <td>(40.78275, -73.97137)</td>\n",
       "      <td>(40.77579376683666, -73.9762057363987)</td>\n",
       "      <td>0.542899</td>\n",
       "      <td>53</td>\n",
       "      <td>20.88</td>\n",
       "      <td>2.87</td>\n",
       "    </tr>\n",
       "    <tr>\n",
       "      <th>1</th>\n",
       "      <td>1282</td>\n",
       "      <td>2017-01-01 00:00:45</td>\n",
       "      <td>2017-01-01 00:22:08</td>\n",
       "      <td>3263</td>\n",
       "      <td>Cooper Square &amp; E 7 St</td>\n",
       "      <td>40.72923649910006</td>\n",
       "      <td>-73.99086803197861</td>\n",
       "      <td>498</td>\n",
       "      <td>Broadway &amp; W 32 St</td>\n",
       "      <td>40.74854862</td>\n",
       "      <td>...</td>\n",
       "      <td>Subscriber</td>\n",
       "      <td>1987.0</td>\n",
       "      <td>2</td>\n",
       "      <td>21.366667</td>\n",
       "      <td>(40.72923649910006, -73.99086803197861)</td>\n",
       "      <td>(40.74854862, -73.98808416)</td>\n",
       "      <td>1.340572</td>\n",
       "      <td>31</td>\n",
       "      <td>15.94</td>\n",
       "      <td>3.76</td>\n",
       "    </tr>\n",
       "    <tr>\n",
       "      <th>2</th>\n",
       "      <td>648</td>\n",
       "      <td>2017-01-01 00:00:57</td>\n",
       "      <td>2017-01-01 00:11:46</td>\n",
       "      <td>3143</td>\n",
       "      <td>5 Ave &amp; E 78 St</td>\n",
       "      <td>40.77682863439968</td>\n",
       "      <td>-73.96388769149779</td>\n",
       "      <td>3152</td>\n",
       "      <td>3 Ave &amp; E 71 St</td>\n",
       "      <td>40.76873687</td>\n",
       "      <td>...</td>\n",
       "      <td>Customer</td>\n",
       "      <td>1962.0</td>\n",
       "      <td>0</td>\n",
       "      <td>10.800000</td>\n",
       "      <td>(40.77682863439968, -73.96388769149779)</td>\n",
       "      <td>(40.76873687, -73.96119945)</td>\n",
       "      <td>0.575889</td>\n",
       "      <td>56</td>\n",
       "      <td>18.75</td>\n",
       "      <td>3.20</td>\n",
       "    </tr>\n",
       "    <tr>\n",
       "      <th>3</th>\n",
       "      <td>631</td>\n",
       "      <td>2017-01-01 00:01:10</td>\n",
       "      <td>2017-01-01 00:11:42</td>\n",
       "      <td>3143</td>\n",
       "      <td>5 Ave &amp; E 78 St</td>\n",
       "      <td>40.77682863439968</td>\n",
       "      <td>-73.96388769149779</td>\n",
       "      <td>3152</td>\n",
       "      <td>3 Ave &amp; E 71 St</td>\n",
       "      <td>40.76873687</td>\n",
       "      <td>...</td>\n",
       "      <td>Customer</td>\n",
       "      <td>1962.0</td>\n",
       "      <td>0</td>\n",
       "      <td>10.516667</td>\n",
       "      <td>(40.77682863439968, -73.96388769149779)</td>\n",
       "      <td>(40.76873687, -73.96119945)</td>\n",
       "      <td>0.575889</td>\n",
       "      <td>56</td>\n",
       "      <td>18.26</td>\n",
       "      <td>3.29</td>\n",
       "    </tr>\n",
       "    <tr>\n",
       "      <th>4</th>\n",
       "      <td>621</td>\n",
       "      <td>2017-01-01 00:01:25</td>\n",
       "      <td>2017-01-01 00:11:47</td>\n",
       "      <td>3143</td>\n",
       "      <td>5 Ave &amp; E 78 St</td>\n",
       "      <td>40.77682863439968</td>\n",
       "      <td>-73.96388769149779</td>\n",
       "      <td>3152</td>\n",
       "      <td>3 Ave &amp; E 71 St</td>\n",
       "      <td>40.76873687</td>\n",
       "      <td>...</td>\n",
       "      <td>Customer</td>\n",
       "      <td>1962.0</td>\n",
       "      <td>0</td>\n",
       "      <td>10.350000</td>\n",
       "      <td>(40.77682863439968, -73.96388769149779)</td>\n",
       "      <td>(40.76873687, -73.96119945)</td>\n",
       "      <td>0.575889</td>\n",
       "      <td>56</td>\n",
       "      <td>17.97</td>\n",
       "      <td>3.34</td>\n",
       "    </tr>\n",
       "  </tbody>\n",
       "</table>\n",
       "<p>5 rows × 22 columns</p>\n",
       "</div>"
      ],
      "text/plain": [
       "   Trip Duration          Start Time           Stop Time Start Station ID  \\\n",
       "0            680 2017-01-01 00:00:21 2017-01-01 00:11:41             3226   \n",
       "1           1282 2017-01-01 00:00:45 2017-01-01 00:22:08             3263   \n",
       "2            648 2017-01-01 00:00:57 2017-01-01 00:11:46             3143   \n",
       "3            631 2017-01-01 00:01:10 2017-01-01 00:11:42             3143   \n",
       "4            621 2017-01-01 00:01:25 2017-01-01 00:11:47             3143   \n",
       "\n",
       "            Start Station Name Start Station Latitude Start Station Longitude  \\\n",
       "0  W 82 St & Central Park West               40.78275               -73.97137   \n",
       "1       Cooper Square & E 7 St      40.72923649910006      -73.99086803197861   \n",
       "2              5 Ave & E 78 St      40.77682863439968      -73.96388769149779   \n",
       "3              5 Ave & E 78 St      40.77682863439968      -73.96388769149779   \n",
       "4              5 Ave & E 78 St      40.77682863439968      -73.96388769149779   \n",
       "\n",
       "  End Station ID             End Station Name End Station Latitude    ...      \\\n",
       "0           3165  Central Park West & W 72 St    40.77579376683666    ...       \n",
       "1            498           Broadway & W 32 St          40.74854862    ...       \n",
       "2           3152              3 Ave & E 71 St          40.76873687    ...       \n",
       "3           3152              3 Ave & E 71 St          40.76873687    ...       \n",
       "4           3152              3 Ave & E 71 St          40.76873687    ...       \n",
       "\n",
       "    User Type Birth Year Gender    Minutes  \\\n",
       "0  Subscriber     1965.0      2  11.333333   \n",
       "1  Subscriber     1987.0      2  21.366667   \n",
       "2    Customer     1962.0      0  10.800000   \n",
       "3    Customer     1962.0      0  10.516667   \n",
       "4    Customer     1962.0      0  10.350000   \n",
       "\n",
       "                         Start Coordinates  \\\n",
       "0                    (40.78275, -73.97137)   \n",
       "1  (40.72923649910006, -73.99086803197861)   \n",
       "2  (40.77682863439968, -73.96388769149779)   \n",
       "3  (40.77682863439968, -73.96388769149779)   \n",
       "4  (40.77682863439968, -73.96388769149779)   \n",
       "\n",
       "                          End Coordinates  Distance Age  min_mile  mile_hour  \n",
       "0  (40.77579376683666, -73.9762057363987)  0.542899  53     20.88       2.87  \n",
       "1             (40.74854862, -73.98808416)  1.340572  31     15.94       3.76  \n",
       "2             (40.76873687, -73.96119945)  0.575889  56     18.75       3.20  \n",
       "3             (40.76873687, -73.96119945)  0.575889  56     18.26       3.29  \n",
       "4             (40.76873687, -73.96119945)  0.575889  56     17.97       3.34  \n",
       "\n",
       "[5 rows x 22 columns]"
      ]
     },
     "execution_count": 82,
     "metadata": {},
     "output_type": "execute_result"
    }
   ],
   "source": [
    "print(df2.dtypes)\n",
    "df2.head()\n"
   ]
  },
  {
   "cell_type": "code",
   "execution_count": 79,
   "metadata": {},
   "outputs": [
    {
     "data": {
      "text/html": [
       "<div>\n",
       "<style>\n",
       "    .dataframe thead tr:only-child th {\n",
       "        text-align: right;\n",
       "    }\n",
       "\n",
       "    .dataframe thead th {\n",
       "        text-align: left;\n",
       "    }\n",
       "\n",
       "    .dataframe tbody tr th {\n",
       "        vertical-align: top;\n",
       "    }\n",
       "</style>\n",
       "<table border=\"1\" class=\"dataframe\">\n",
       "  <thead>\n",
       "    <tr style=\"text-align: right;\">\n",
       "      <th></th>\n",
       "      <th>Trip Duration</th>\n",
       "      <th>Birth Year</th>\n",
       "      <th>Minutes</th>\n",
       "      <th>Distance</th>\n",
       "      <th>Age</th>\n",
       "      <th>min_mile</th>\n",
       "      <th>mile_hour</th>\n",
       "    </tr>\n",
       "  </thead>\n",
       "  <tbody>\n",
       "    <tr>\n",
       "      <th>count</th>\n",
       "      <td>4766757.00</td>\n",
       "      <td>4766757.00</td>\n",
       "      <td>4766757.00</td>\n",
       "      <td>4766479.00</td>\n",
       "      <td>4766757.00</td>\n",
       "      <td>4766479.00</td>\n",
       "      <td>4766479.00</td>\n",
       "    </tr>\n",
       "    <tr>\n",
       "      <th>mean</th>\n",
       "      <td>771.15</td>\n",
       "      <td>1979.32</td>\n",
       "      <td>12.85</td>\n",
       "      <td>1.12</td>\n",
       "      <td>38.68</td>\n",
       "      <td>19.00</td>\n",
       "      <td>8.77</td>\n",
       "    </tr>\n",
       "    <tr>\n",
       "      <th>std</th>\n",
       "      <td>611.53</td>\n",
       "      <td>10.22</td>\n",
       "      <td>10.19</td>\n",
       "      <td>2.60</td>\n",
       "      <td>10.22</td>\n",
       "      <td>2038.16</td>\n",
       "      <td>13.01</td>\n",
       "    </tr>\n",
       "    <tr>\n",
       "      <th>min</th>\n",
       "      <td>61.00</td>\n",
       "      <td>1956.00</td>\n",
       "      <td>1.02</td>\n",
       "      <td>0.00</td>\n",
       "      <td>17.00</td>\n",
       "      <td>0.00</td>\n",
       "      <td>0.00</td>\n",
       "    </tr>\n",
       "    <tr>\n",
       "      <th>25%</th>\n",
       "      <td>359.00</td>\n",
       "      <td>1972.00</td>\n",
       "      <td>5.98</td>\n",
       "      <td>0.57</td>\n",
       "      <td>30.00</td>\n",
       "      <td>5.67</td>\n",
       "      <td>2.74</td>\n",
       "    </tr>\n",
       "    <tr>\n",
       "      <th>50%</th>\n",
       "      <td>589.00</td>\n",
       "      <td>1981.00</td>\n",
       "      <td>9.82</td>\n",
       "      <td>0.89</td>\n",
       "      <td>37.00</td>\n",
       "      <td>11.13</td>\n",
       "      <td>5.39</td>\n",
       "    </tr>\n",
       "    <tr>\n",
       "      <th>75%</th>\n",
       "      <td>1005.00</td>\n",
       "      <td>1988.00</td>\n",
       "      <td>16.75</td>\n",
       "      <td>1.40</td>\n",
       "      <td>46.00</td>\n",
       "      <td>21.90</td>\n",
       "      <td>10.58</td>\n",
       "    </tr>\n",
       "    <tr>\n",
       "      <th>max</th>\n",
       "      <td>7200.00</td>\n",
       "      <td>2001.00</td>\n",
       "      <td>120.00</td>\n",
       "      <td>5385.04</td>\n",
       "      <td>62.00</td>\n",
       "      <td>4449504.87</td>\n",
       "      <td>15968.82</td>\n",
       "    </tr>\n",
       "  </tbody>\n",
       "</table>\n",
       "</div>"
      ],
      "text/plain": [
       "       Trip Duration  Birth Year     Minutes    Distance         Age  \\\n",
       "count     4766757.00  4766757.00  4766757.00  4766479.00  4766757.00   \n",
       "mean          771.15     1979.32       12.85        1.12       38.68   \n",
       "std           611.53       10.22       10.19        2.60       10.22   \n",
       "min            61.00     1956.00        1.02        0.00       17.00   \n",
       "25%           359.00     1972.00        5.98        0.57       30.00   \n",
       "50%           589.00     1981.00        9.82        0.89       37.00   \n",
       "75%          1005.00     1988.00       16.75        1.40       46.00   \n",
       "max          7200.00     2001.00      120.00     5385.04       62.00   \n",
       "\n",
       "         min_mile   mile_hour  \n",
       "count  4766479.00  4766479.00  \n",
       "mean        19.00        8.77  \n",
       "std       2038.16       13.01  \n",
       "min          0.00        0.00  \n",
       "25%          5.67        2.74  \n",
       "50%         11.13        5.39  \n",
       "75%         21.90       10.58  \n",
       "max    4449504.87    15968.82  "
      ]
     },
     "execution_count": 79,
     "metadata": {},
     "output_type": "execute_result"
    }
   ],
   "source": [
    "#Let's check for data integrity to make sure all the numbers look as expected. Only numerical data included\n",
    "round(df2.describe(),2)"
   ]
  },
  {
   "cell_type": "code",
   "execution_count": 83,
   "metadata": {},
   "outputs": [
    {
     "data": {
      "text/plain": [
       "Trip Duration                       int64\n",
       "Start Time                 datetime64[ns]\n",
       "Stop Time                  datetime64[ns]\n",
       "Start Station ID                   object\n",
       "Start Station Name               category\n",
       "Start Station Latitude             object\n",
       "Start Station Longitude            object\n",
       "End Station ID                     object\n",
       "End Station Name                 category\n",
       "End Station Latitude               object\n",
       "End Station Longitude              object\n",
       "Bike ID                            object\n",
       "User Type                        category\n",
       "Birth Year                        float64\n",
       "Gender                           category\n",
       "Minutes                           float64\n",
       "Start Coordinates                  object\n",
       "End Coordinates                    object\n",
       "Distance                          float64\n",
       "Age                                 int32\n",
       "min_mile                          float64\n",
       "mile_hour                         float64\n",
       "dtype: object"
      ]
     },
     "execution_count": 83,
     "metadata": {},
     "output_type": "execute_result"
    }
   ],
   "source": [
    "df2.dtypes"
   ]
  },
  {
   "cell_type": "code",
   "execution_count": 84,
   "metadata": {
    "collapsed": true
   },
   "outputs": [],
   "source": [
    "df2 = df2[df2['Distance'] < 30]"
   ]
  },
  {
   "cell_type": "code",
   "execution_count": 86,
   "metadata": {},
   "outputs": [],
   "source": [
    "print(df2.shape)\n",
    "df2= df2[df2['mile_hour']<20]\n",
    "df2 = df2[df2['mile_hour']> (df2['mile_hour'].mean()-(2*df2['mile_hour'].std()))]"
   ]
  },
  {
   "cell_type": "code",
   "execution_count": 87,
   "metadata": {},
   "outputs": [
    {
     "data": {
      "text/plain": [
       "(4317227, 22)"
      ]
     },
     "execution_count": 87,
     "metadata": {},
     "output_type": "execute_result"
    }
   ],
   "source": [
    "df2.shape"
   ]
  },
  {
   "cell_type": "code",
   "execution_count": 100,
   "metadata": {
    "collapsed": true
   },
   "outputs": [],
   "source": [
    "#Dropping unknown to make the visual more informative. \n",
    "#Unknown gender may be important for the model, which is why I created a copy of the original dataframe.\n",
    "df3 = df2.drop(df2.index[(df2['Gender'] == '0')])"
   ]
  },
  {
   "cell_type": "code",
   "execution_count": 102,
   "metadata": {},
   "outputs": [
    {
     "data": {
      "image/png": "[encoded data removed]",
      "text/plain": [
       "<matplotlib.figure.Figure at 0x24100471198>"
      ]
     },
     "metadata": {},
     "output_type": "display_data"
    }
   ],
   "source": [
    "#Rider performance by age and Gender in Min/Mile \n",
    "fig, ax5 = plt.subplots(figsize=(11,5))\n",
    "df3.groupby(['Age','Gender']).median()['min_mile'].unstack().plot(ax=ax5, color =\"bg\")\n",
    "ax5.legend(['Female','Male'])\n",
    "plt.ylabel('Median Speed (min/mile)')\n",
    "plt.title('Rider Performance Based on Gender and Age (Median Speed in min/mile)')\n",
    "plt.show()"
   ]
  },
  {
   "cell_type": "code",
   "execution_count": 103,
   "metadata": {},
   "outputs": [
    {
     "data": {
      "image/png": "[encoded data removed]",
      "text/plain": [
       "<matplotlib.figure.Figure at 0x2410048b9b0>"
      ]
     },
     "metadata": {},
     "output_type": "display_data"
    }
   ],
   "source": [
    "#del([fig,ax5])\n",
    "fig1, ax6 = plt.subplots(figsize=(11,5))\n",
    "#print(df3[df3['Gender'] == '1'])\n",
    "df3.groupby(['Age','Gender']).median()['mile_hour'].head()\n",
    "df3.groupby(['Age','Gender']).median()['mile_hour'].unstack().plot(ax=ax6,color =\"bg\")\n",
    "ax6.legend(['Female', 'Male'])\n",
    "plt.ylabel('Median Speed (miles/hr)')\n",
    "plt.title('Rider Performance Based on Gender and Age (Median Speed in miles/hr)')\n",
    "plt.show()"
   ]
  },
  {
   "cell_type": "code",
   "execution_count": 104,
   "metadata": {},
   "outputs": [
    {
     "data": {
      "image/png": "[encoded data removed]",
      "text/plain": [
       "<matplotlib.figure.Figure at 0x242061cf470>"
      ]
     },
     "metadata": {},
     "output_type": "display_data"
    }
   ],
   "source": [
    "#Rider performance by age and Gender in Averge Distance\n",
    "del([fig1,ax6])\n",
    "fig2, ax7 = plt.subplots(figsize=(11,5))\n",
    "df3.groupby(['Age','Gender']).mean()['Distance'].unstack().plot(ax=ax7,color =\"bg\")\n",
    "ax7.legend(['Female', 'Male'])\n",
    "plt.ylabel('Average Distance (miles)')\n",
    "plt.title('Rider Performance Based on Gender and Age (Average Distance in Miles)')\n",
    "plt.show()"
   ]
  },
  {
   "cell_type": "code",
   "execution_count": 105,
   "metadata": {
    "collapsed": true
   },
   "outputs": [],
   "source": [
    "del(df3)"
   ]
  },
  {
   "cell_type": "code",
   "execution_count": 112,
   "metadata": {},
   "outputs": [
    {
     "data": {
      "text/html": [
       "<div>\n",
       "<style>\n",
       "    .dataframe thead tr:only-child th {\n",
       "        text-align: right;\n",
       "    }\n",
       "\n",
       "    .dataframe thead th {\n",
       "        text-align: left;\n",
       "    }\n",
       "\n",
       "    .dataframe tbody tr th {\n",
       "        vertical-align: top;\n",
       "    }\n",
       "</style>\n",
       "<table border=\"1\" class=\"dataframe\">\n",
       "  <thead>\n",
       "    <tr style=\"text-align: right;\">\n",
       "      <th></th>\n",
       "      <th>index</th>\n",
       "      <th>Bike ID</th>\n",
       "      <th>Number of Times Used</th>\n",
       "    </tr>\n",
       "  </thead>\n",
       "  <tbody>\n",
       "    <tr>\n",
       "      <th>0</th>\n",
       "      <td>7807</td>\n",
       "      <td>Bike 26708</td>\n",
       "      <td>956</td>\n",
       "    </tr>\n",
       "    <tr>\n",
       "      <th>1</th>\n",
       "      <td>7717</td>\n",
       "      <td>Bike 26604</td>\n",
       "      <td>915</td>\n",
       "    </tr>\n",
       "    <tr>\n",
       "      <th>2</th>\n",
       "      <td>8113</td>\n",
       "      <td>Bike 27018</td>\n",
       "      <td>915</td>\n",
       "    </tr>\n",
       "    <tr>\n",
       "      <th>3</th>\n",
       "      <td>7507</td>\n",
       "      <td>Bike 26385</td>\n",
       "      <td>914</td>\n",
       "    </tr>\n",
       "    <tr>\n",
       "      <th>4</th>\n",
       "      <td>7944</td>\n",
       "      <td>Bike 26848</td>\n",
       "      <td>913</td>\n",
       "    </tr>\n",
       "    <tr>\n",
       "      <th>5</th>\n",
       "      <td>7377</td>\n",
       "      <td>Bike 26128</td>\n",
       "      <td>907</td>\n",
       "    </tr>\n",
       "    <tr>\n",
       "      <th>6</th>\n",
       "      <td>7954</td>\n",
       "      <td>Bike 26858</td>\n",
       "      <td>903</td>\n",
       "    </tr>\n",
       "    <tr>\n",
       "      <th>7</th>\n",
       "      <td>8271</td>\n",
       "      <td>Bike 27178</td>\n",
       "      <td>894</td>\n",
       "    </tr>\n",
       "    <tr>\n",
       "      <th>8</th>\n",
       "      <td>6360</td>\n",
       "      <td>Bike 25078</td>\n",
       "      <td>885</td>\n",
       "    </tr>\n",
       "    <tr>\n",
       "      <th>9</th>\n",
       "      <td>8149</td>\n",
       "      <td>Bike 27054</td>\n",
       "      <td>883</td>\n",
       "    </tr>\n",
       "  </tbody>\n",
       "</table>\n",
       "</div>"
      ],
      "text/plain": [
       "   index     Bike ID  Number of Times Used\n",
       "0   7807  Bike 26708                   956\n",
       "1   7717  Bike 26604                   915\n",
       "2   8113  Bike 27018                   915\n",
       "3   7507  Bike 26385                   914\n",
       "4   7944  Bike 26848                   913\n",
       "5   7377  Bike 26128                   907\n",
       "6   7954  Bike 26858                   903\n",
       "7   8271  Bike 27178                   894\n",
       "8   6360  Bike 25078                   885\n",
       "9   8149  Bike 27054                   883"
      ]
     },
     "execution_count": 112,
     "metadata": {},
     "output_type": "execute_result"
    }
   ],
   "source": [
    "#Bike usage based on number of times used\n",
    "bike_use_df = pd.DataFrame()\n",
    "bike_use_df = df2.groupby(['Bike ID']).size().reset_index(name =\"Number of Times Used\")\n",
    "bike_use_df =bike_use_df.sort_values(\"Number of Times Used\" , ascending = False)\n",
    "bike_use_df = bike_use_df[:10]\n",
    "bike_use_df['Bike ID'] = bike_use_df['Bike ID'].astype(str)\n",
    "bike_use_df['Bike ID'] = ('Bike ' + bike_use_df['Bike ID'])\n",
    "bike_use_df = bike_use_df.reset_index()\n",
    "bike_use_df"
   ]
  },
  {
   "cell_type": "code",
   "execution_count": 113,
   "metadata": {},
   "outputs": [
    {
     "data": {
      "image/png": "[encoded data removed]",
      "text/plain": [
       "<matplotlib.figure.Figure at 0x2410005e3c8>"
      ]
     },
     "metadata": {},
     "output_type": "display_data"
    }
   ],
   "source": [
    "\n",
    "#Visual of most used bike based on Number of Trips\n",
    "ax8 = sns.barplot('Number of Times Used', 'Bike ID',data = bike_use_df, palette=\"GnBu_d\")\n",
    "ax8.set_title('Most Popular Bikes by Number of Times Used')\n",
    "for index, row in bike_use_df.iterrows():\n",
    "    ax8.text(row['Number of Times Used']-90,index,row['Number of Times Used'], color='white', ha=\"center\", fontsize =10)\n",
    "plt.show()"
   ]
  },
  {
   "cell_type": "code",
   "execution_count": 115,
   "metadata": {
    "collapsed": true
   },
   "outputs": [],
   "source": [
    "\n",
    "#Bike usage based on minutes used\n",
    "del(ax8)"
   ]
  },
  {
   "cell_type": "code",
   "execution_count": 125,
   "metadata": {},
   "outputs": [
    {
     "data": {
      "text/html": [
       "<div>\n",
       "<style>\n",
       "    .dataframe thead tr:only-child th {\n",
       "        text-align: right;\n",
       "    }\n",
       "\n",
       "    .dataframe thead th {\n",
       "        text-align: left;\n",
       "    }\n",
       "\n",
       "    .dataframe tbody tr th {\n",
       "        vertical-align: top;\n",
       "    }\n",
       "</style>\n",
       "<table border=\"1\" class=\"dataframe\">\n",
       "  <thead>\n",
       "    <tr style=\"text-align: right;\">\n",
       "      <th></th>\n",
       "      <th>index</th>\n",
       "      <th>Bike ID</th>\n",
       "      <th>Minutes Used</th>\n",
       "    </tr>\n",
       "  </thead>\n",
       "  <tbody>\n",
       "    <tr>\n",
       "      <th>0</th>\n",
       "      <td>8113</td>\n",
       "      <td>Bike 27018</td>\n",
       "      <td>12236.550000</td>\n",
       "    </tr>\n",
       "    <tr>\n",
       "      <th>1</th>\n",
       "      <td>7507</td>\n",
       "      <td>Bike 26385</td>\n",
       "      <td>12151.566667</td>\n",
       "    </tr>\n",
       "    <tr>\n",
       "      <th>2</th>\n",
       "      <td>7717</td>\n",
       "      <td>Bike 26604</td>\n",
       "      <td>12139.183333</td>\n",
       "    </tr>\n",
       "    <tr>\n",
       "      <th>3</th>\n",
       "      <td>7672</td>\n",
       "      <td>Bike 26555</td>\n",
       "      <td>12126.916667</td>\n",
       "    </tr>\n",
       "    <tr>\n",
       "      <th>4</th>\n",
       "      <td>7377</td>\n",
       "      <td>Bike 26128</td>\n",
       "      <td>12088.966667</td>\n",
       "    </tr>\n",
       "    <tr>\n",
       "      <th>5</th>\n",
       "      <td>7807</td>\n",
       "      <td>Bike 26708</td>\n",
       "      <td>12016.083333</td>\n",
       "    </tr>\n",
       "    <tr>\n",
       "      <th>6</th>\n",
       "      <td>8244</td>\n",
       "      <td>Bike 27151</td>\n",
       "      <td>11975.216667</td>\n",
       "    </tr>\n",
       "    <tr>\n",
       "      <th>7</th>\n",
       "      <td>6425</td>\n",
       "      <td>Bike 25145</td>\n",
       "      <td>11957.250000</td>\n",
       "    </tr>\n",
       "    <tr>\n",
       "      <th>8</th>\n",
       "      <td>8271</td>\n",
       "      <td>Bike 27178</td>\n",
       "      <td>11935.200000</td>\n",
       "    </tr>\n",
       "    <tr>\n",
       "      <th>9</th>\n",
       "      <td>7483</td>\n",
       "      <td>Bike 26361</td>\n",
       "      <td>11890.300000</td>\n",
       "    </tr>\n",
       "  </tbody>\n",
       "</table>\n",
       "</div>"
      ],
      "text/plain": [
       "   index     Bike ID  Minutes Used\n",
       "0   8113  Bike 27018  12236.550000\n",
       "1   7507  Bike 26385  12151.566667\n",
       "2   7717  Bike 26604  12139.183333\n",
       "3   7672  Bike 26555  12126.916667\n",
       "4   7377  Bike 26128  12088.966667\n",
       "5   7807  Bike 26708  12016.083333\n",
       "6   8244  Bike 27151  11975.216667\n",
       "7   6425  Bike 25145  11957.250000\n",
       "8   8271  Bike 27178  11935.200000\n",
       "9   7483  Bike 26361  11890.300000"
      ]
     },
     "execution_count": 125,
     "metadata": {},
     "output_type": "execute_result"
    }
   ],
   "source": [
    "bike_min_df = pd.DataFrame()\n",
    "bike_min_df['Minutes Used']= df2.groupby(['Bike ID'])['Minutes'].sum()\n",
    "bike_min_df = bike_min_df.reset_index()\n",
    "bike_min_df= bike_min_df.sort_values('Minutes Used' , ascending = False)\n",
    "bike_min_df['Bike ID'] = bike_min_df['Bike ID'].astype(str)\n",
    "bike_min_df['Bike ID'] = ('Bike ' + bike_min_df['Bike ID'])\n",
    "bike_min_df = bike_min_df[:10]\n",
    "bike_min_df = bike_min_df.reset_index()\n",
    "bike_min_df"
   ]
  },
  {
   "cell_type": "code",
   "execution_count": 126,
   "metadata": {},
   "outputs": [
    {
     "data": {
      "image/png": "[encoded data removed]",
      "text/plain": [
       "<matplotlib.figure.Figure at 0x2410224add8>"
      ]
     },
     "metadata": {},
     "output_type": "display_data"
    }
   ],
   "source": [
    "#Visual of most used bike based on number of minutes used\n",
    "ax9 = sns.barplot('Minutes Used', 'Bike ID',data = bike_min_df, palette=\"GnBu_d\")\n",
    "ax9.set_title('Most Popular Bikes by Minutes Used')\n",
    "rcParams['figure.figsize'] = 11,6\n",
    "for index, row in bike_min_df.iterrows():\n",
    "    ax9.text(row['Minutes Used']-2800,index,str(round(row['Minutes Used'],2))+' Minutes', \n",
    "             color='white', ha=\"center\")\n",
    "plt.show()"
   ]
  },
  {
   "cell_type": "code",
   "execution_count": null,
   "metadata": {
    "collapsed": true
   },
   "outputs": [],
   "source": []
  },
  {
   "cell_type": "code",
   "execution_count": null,
   "metadata": {
    "collapsed": true
   },
   "outputs": [],
   "source": []
  },
  {
   "cell_type": "code",
   "execution_count": null,
   "metadata": {
    "collapsed": true
   },
   "outputs": [],
   "source": []
  },
  {
   "cell_type": "code",
   "execution_count": null,
   "metadata": {
    "collapsed": true
   },
   "outputs": [],
   "source": []
  },
  {
   "cell_type": "code",
   "execution_count": null,
   "metadata": {
    "collapsed": true
   },
   "outputs": [],
   "source": []
  },
  {
   "cell_type": "code",
   "execution_count": null,
   "metadata": {
    "collapsed": true
   },
   "outputs": [],
   "source": []
  },
  {
   "cell_type": "code",
   "execution_count": null,
   "metadata": {
    "collapsed": true
   },
   "outputs": [],
   "source": []
  },
  {
   "cell_type": "code",
   "execution_count": null,
   "metadata": {
    "collapsed": true
   },
   "outputs": [],
   "source": []
  },
  {
   "cell_type": "code",
   "execution_count": null,
   "metadata": {
    "collapsed": true
   },
   "outputs": [],
   "source": []
  },
  {
   "cell_type": "code",
   "execution_count": null,
   "metadata": {
    "collapsed": true
   },
   "outputs": [],
   "source": []
  },
  {
   "cell_type": "code",
   "execution_count": null,
   "metadata": {
    "collapsed": true
   },
   "outputs": [],
   "source": []
  },
  {
   "cell_type": "code",
   "execution_count": null,
   "metadata": {
    "collapsed": true
   },
   "outputs": [],
   "source": []
  },
  {
   "cell_type": "code",
   "execution_count": null,
   "metadata": {
    "collapsed": true
   },
   "outputs": [],
   "source": []
  },
  {
   "cell_type": "code",
   "execution_count": null,
   "metadata": {
    "collapsed": true
   },
   "outputs": [],
   "source": []
  },
  {
   "cell_type": "code",
   "execution_count": null,
   "metadata": {
    "collapsed": true
   },
   "outputs": [],
   "source": []
  },
  {
   "cell_type": "code",
   "execution_count": null,
   "metadata": {
    "collapsed": true
   },
   "outputs": [],
   "source": []
  },
  {
   "cell_type": "code",
   "execution_count": null,
   "metadata": {
    "collapsed": true
   },
   "outputs": [],
   "source": []
  },
  {
   "cell_type": "code",
   "execution_count": null,
   "metadata": {
    "collapsed": true
   },
   "outputs": [],
   "source": []
  },
  {
   "cell_type": "code",
   "execution_count": null,
   "metadata": {
    "collapsed": true
   },
   "outputs": [],
   "source": []
  },
  {
   "cell_type": "code",
   "execution_count": null,
   "metadata": {
    "collapsed": true
   },
   "outputs": [],
   "source": []
  },
  {
   "cell_type": "code",
   "execution_count": null,
   "metadata": {
    "collapsed": true
   },
   "outputs": [],
   "source": []
  },
  {
   "cell_type": "code",
   "execution_count": null,
   "metadata": {
    "collapsed": true
   },
   "outputs": [],
   "source": []
  },
  {
   "cell_type": "code",
   "execution_count": null,
   "metadata": {
    "collapsed": true
   },
   "outputs": [],
   "source": []
  },
  {
   "cell_type": "code",
   "execution_count": null,
   "metadata": {
    "collapsed": true
   },
   "outputs": [],
   "source": []
  },
  {
   "cell_type": "code",
   "execution_count": null,
   "metadata": {
    "collapsed": true
   },
   "outputs": [],
   "source": []
  },
  {
   "cell_type": "code",
   "execution_count": null,
   "metadata": {
    "collapsed": true
   },
   "outputs": [],
   "source": []
  },
  {
   "cell_type": "code",
   "execution_count": null,
   "metadata": {
    "collapsed": true
   },
   "outputs": [],
   "source": []
  },
  {
   "cell_type": "code",
   "execution_count": null,
   "metadata": {
    "collapsed": true
   },
   "outputs": [],
   "source": []
  },
  {
   "cell_type": "code",
   "execution_count": null,
   "metadata": {
    "collapsed": true
   },
   "outputs": [],
   "source": []
  },
  {
   "cell_type": "code",
   "execution_count": null,
   "metadata": {
    "collapsed": true
   },
   "outputs": [],
   "source": []
  },
  {
   "cell_type": "code",
   "execution_count": null,
   "metadata": {
    "collapsed": true
   },
   "outputs": [],
   "source": []
  },
  {
   "cell_type": "code",
   "execution_count": null,
   "metadata": {
    "collapsed": true
   },
   "outputs": [],
   "source": []
  },
  {
   "cell_type": "code",
   "execution_count": null,
   "metadata": {
    "collapsed": true
   },
   "outputs": [],
   "source": []
  },
  {
   "cell_type": "code",
   "execution_count": null,
   "metadata": {
    "collapsed": true
   },
   "outputs": [],
   "source": []
  },
  {
   "cell_type": "code",
   "execution_count": null,
   "metadata": {
    "collapsed": true
   },
   "outputs": [],
   "source": []
  },
  {
   "cell_type": "code",
   "execution_count": null,
   "metadata": {
    "collapsed": true
   },
   "outputs": [],
   "source": []
  },
  {
   "cell_type": "code",
   "execution_count": null,
   "metadata": {
    "collapsed": true
   },
   "outputs": [],
   "source": []
  },
  {
   "cell_type": "code",
   "execution_count": null,
   "metadata": {
    "collapsed": true
   },
   "outputs": [],
   "source": []
  },
  {
   "cell_type": "code",
   "execution_count": null,
   "metadata": {
    "collapsed": true
   },
   "outputs": [],
   "source": []
  },
  {
   "cell_type": "code",
   "execution_count": null,
   "metadata": {
    "collapsed": true
   },
   "outputs": [],
   "source": []
  },
  {
   "cell_type": "code",
   "execution_count": null,
   "metadata": {
    "collapsed": true
   },
   "outputs": [],
   "source": []
  },
  {
   "cell_type": "code",
   "execution_count": null,
   "metadata": {
    "collapsed": true
   },
   "outputs": [],
   "source": []
  },
  {
   "cell_type": "code",
   "execution_count": null,
   "metadata": {
    "collapsed": true
   },
   "outputs": [],
   "source": []
  },
  {
   "cell_type": "code",
   "execution_count": null,
   "metadata": {
    "collapsed": true
   },
   "outputs": [],
   "source": []
  },
  {
   "cell_type": "code",
   "execution_count": null,
   "metadata": {
    "collapsed": true
   },
   "outputs": [],
   "source": []
  },
  {
   "cell_type": "code",
   "execution_count": null,
   "metadata": {
    "collapsed": true
   },
   "outputs": [],
   "source": []
  }
 ],
 "metadata": {
  "kernelspec": {
   "display_name": "Python 3",
   "language": "python",
   "name": "python3"
  },
  "language_info": {
   "codemirror_mode": {
    "name": "ipython",
    "version": 3
   },
   "file_extension": ".py",
   "mimetype": "text/x-python",
   "name": "python",
   "nbconvert_exporter": "python",
   "pygments_lexer": "ipython3",
   "version": "3.6.3"
  }
 },
 "nbformat": 4,
 "nbformat_minor": 2
}
